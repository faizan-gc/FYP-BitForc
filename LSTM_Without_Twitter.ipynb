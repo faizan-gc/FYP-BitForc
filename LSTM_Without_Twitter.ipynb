{
 "cells": [
  {
   "cell_type": "code",
   "execution_count": 1,
   "metadata": {},
   "outputs": [],
   "source": [
    "import pandas as pd\n",
    "import numpy as np\n",
    "import os\n",
    "import getpass\n",
    "import re\n",
    "import nltk\n",
    "import tqdm\n",
    "from nltk.corpus import stopwords\n",
    "from nltk.stem.snowball import SnowballStemmer\n",
    "from vaderSentiment.vaderSentiment import SentimentIntensityAnalyzer\n",
    "import swifter\n",
    "import matplotlib as plt\n",
    "import matplotlib.pyplot as plt \n",
    "import os\n",
    "from tqdm import tqdm\n",
    "from sklearn.preprocessing import StandardScaler\n",
    "scaler = StandardScaler()\n",
    "from sklearn.preprocessing import MinMaxScaler\n",
    "from sklearn.model_selection import train_test_split\n",
    "from keras.preprocessing.sequence import TimeseriesGenerator\n",
    "from tensorflow.keras.models import Sequential\n",
    "from tensorflow.keras.layers import Dense\n",
    "from tensorflow.keras.layers import LSTM\n",
    "from tensorflow.keras.layers import Dense, Dropout\n",
    "from keras import optimizers"
   ]
  },
  {
   "cell_type": "code",
   "execution_count": 2,
   "metadata": {},
   "outputs": [
    {
     "name": "stdout",
     "output_type": "stream",
     "text": [
      "training dataset contains 1721 samples and test dataset contains 431 samples\n"
     ]
    }
   ],
   "source": [
    "dff = pd.read_csv(\"Merged_Finall.csv\")\n",
    "dff = dff[dff[\"Date\"] > \"2014-01-01\"]\n",
    "temp_dff = dff\n",
    "dff = dff[[\"Close\", \"Open\",\"Volume\", \"High\"]]\n",
    "\n",
    "\n",
    "scaler = StandardScaler()\n",
    "scaler = scaler.fit(dff)\n",
    "scaled_df = scaler.transform(dff)\n",
    "\n",
    "training_ds = scaled_df[:(int(len(scaled_df) * 0.8))]\n",
    "test_ds = scaled_df[(int(len(scaled_df) * 0.8)):]\n",
    "\n",
    "print(f\"training dataset contains {len(training_ds)} samples and test dataset contains {len(test_ds)} samples\")\n",
    "\n",
    "\n",
    "training_ds_temp = temp_dff[:(int(len(temp_dff) * 0.8))]\n",
    "test_ds_temp = temp_dff[(int(len(temp_dff) * 0.8)):]\n",
    "\n",
    "train_dates = pd.to_datetime(training_ds_temp['Date'])\n",
    "test_dates = pd.to_datetime(test_ds_temp['Date'])"
   ]
  },
  {
   "cell_type": "code",
   "execution_count": 3,
   "metadata": {},
   "outputs": [],
   "source": [
    "def sliding_windows(dataset, future, lookback, label_col):\n",
    "    \n",
    "    Features = []\n",
    "    label = []\n",
    "\n",
    "    n_future = future \n",
    "    n_past = lookback\n",
    "\n",
    "    for i in range(n_past, len(dataset) - n_future +1):\n",
    "        Features.append(dataset[i - n_past:i, 0:dataset.shape[1]])\n",
    "        label.append(dataset[i + n_future - 1:i + n_future, label_col]) #0 means our label class in 1st column.\n",
    "\n",
    "    Features, label = np.array(Features).astype(np.float32), np.array(label).astype(np.float32)\n",
    "\n",
    "    print('Features shape == {}.'.format(Features.shape))\n",
    "    print('label shape == {}.'.format(label.shape))\n",
    "\n",
    "    return Features, label"
   ]
  },
  {
   "cell_type": "code",
   "execution_count": 4,
   "metadata": {},
   "outputs": [
    {
     "name": "stdout",
     "output_type": "stream",
     "text": [
      "Features shape == (1717, 4, 4).\n",
      "label shape == (1717, 1).\n",
      "Features shape == (427, 4, 4).\n",
      "label shape == (427, 1).\n"
     ]
    }
   ],
   "source": [
    "future_ = 1\n",
    "lookback_ = 4\n",
    "\n",
    "train_ds_windows_X, train_ds_windows_y  = sliding_windows(training_ds, future_, lookback_, 0)\n",
    "test_ds_windows_X, test_ds_windows_y  = sliding_windows(test_ds, future_, lookback_, 0)"
   ]
  },
  {
   "cell_type": "code",
   "execution_count": 5,
   "metadata": {},
   "outputs": [
    {
     "name": "stderr",
     "output_type": "stream",
     "text": [
      "2021-12-12 14:29:50.321288: I tensorflow/core/platform/cpu_feature_guard.cc:142] This TensorFlow binary is optimized with oneAPI Deep Neural Network Library (oneDNN) to use the following CPU instructions in performance-critical operations:  SSE4.1 SSE4.2 AVX AVX2 FMA\n",
      "To enable them in other operations, rebuild TensorFlow with the appropriate compiler flags.\n"
     ]
    },
    {
     "name": "stdout",
     "output_type": "stream",
     "text": [
      "Model: \"sequential\"\n",
      "_________________________________________________________________\n",
      "Layer (type)                 Output Shape              Param #   \n",
      "=================================================================\n",
      "lstm (LSTM)                  (None, 500)               1010000   \n",
      "_________________________________________________________________\n",
      "dropout (Dropout)            (None, 500)               0         \n",
      "_________________________________________________________________\n",
      "dense (Dense)                (None, 1)                 501       \n",
      "=================================================================\n",
      "Total params: 1,010,501\n",
      "Trainable params: 1,010,501\n",
      "Non-trainable params: 0\n",
      "_________________________________________________________________\n"
     ]
    }
   ],
   "source": [
    "model = Sequential()\n",
    "model.add(LSTM(500, input_shape=(train_ds_windows_X.shape[1], train_ds_windows_X.shape[2]), return_sequences=False))\n",
    "model.add(Dropout(0.2))\n",
    "model.add(Dense(train_ds_windows_y.shape[1]))\n",
    "\n",
    "\n",
    "model.compile(loss='mean_squared_error',optimizer='adam')\n",
    "model.summary()"
   ]
  },
  {
   "cell_type": "code",
   "execution_count": 6,
   "metadata": {},
   "outputs": [
    {
     "name": "stdout",
     "output_type": "stream",
     "text": [
      "Epoch 1/100\n"
     ]
    },
    {
     "name": "stderr",
     "output_type": "stream",
     "text": [
      "2021-12-12 14:29:50.697811: I tensorflow/compiler/mlir/mlir_graph_optimization_pass.cc:116] None of the MLIR optimization passes are enabled (registered 2)\n",
      "2021-12-12 14:29:50.718232: I tensorflow/core/platform/profile_utils/cpu_utils.cc:112] CPU Frequency: 3600000000 Hz\n"
     ]
    },
    {
     "name": "stdout",
     "output_type": "stream",
     "text": [
      "11/11 [==============================] - 1s 54ms/step - loss: 0.1869 - val_loss: 0.4035\n",
      "Epoch 2/100\n",
      "11/11 [==============================] - 0s 18ms/step - loss: 0.0197 - val_loss: 0.1448\n",
      "Epoch 3/100\n",
      "11/11 [==============================] - 0s 17ms/step - loss: 0.0071 - val_loss: 0.1414\n",
      "Epoch 4/100\n",
      "11/11 [==============================] - 0s 17ms/step - loss: 0.0043 - val_loss: 0.0743\n",
      "Epoch 5/100\n",
      "11/11 [==============================] - 0s 18ms/step - loss: 0.0022 - val_loss: 0.0733\n",
      "Epoch 6/100\n",
      "11/11 [==============================] - 0s 18ms/step - loss: 0.0016 - val_loss: 0.0582\n",
      "Epoch 7/100\n",
      "11/11 [==============================] - 0s 18ms/step - loss: 0.0013 - val_loss: 0.0568\n",
      "Epoch 8/100\n",
      "11/11 [==============================] - 0s 20ms/step - loss: 0.0012 - val_loss: 0.0568\n",
      "Epoch 9/100\n",
      "11/11 [==============================] - 0s 17ms/step - loss: 0.0012 - val_loss: 0.0589\n",
      "Epoch 10/100\n",
      "11/11 [==============================] - 0s 17ms/step - loss: 0.0011 - val_loss: 0.0581\n",
      "Epoch 11/100\n",
      "11/11 [==============================] - 0s 17ms/step - loss: 0.0010 - val_loss: 0.0586\n",
      "Epoch 12/100\n",
      "11/11 [==============================] - 0s 18ms/step - loss: 0.0010 - val_loss: 0.0594\n",
      "Epoch 13/100\n",
      "11/11 [==============================] - 0s 18ms/step - loss: 0.0011 - val_loss: 0.0577\n",
      "Epoch 14/100\n",
      "11/11 [==============================] - 0s 17ms/step - loss: 9.9181e-04 - val_loss: 0.0576\n",
      "Epoch 15/100\n",
      "11/11 [==============================] - 0s 18ms/step - loss: 0.0010 - val_loss: 0.0568\n",
      "Epoch 16/100\n",
      "11/11 [==============================] - 0s 18ms/step - loss: 9.9626e-04 - val_loss: 0.0564\n",
      "Epoch 17/100\n",
      "11/11 [==============================] - 0s 18ms/step - loss: 0.0011 - val_loss: 0.0560\n",
      "Epoch 18/100\n",
      "11/11 [==============================] - 0s 18ms/step - loss: 0.0010 - val_loss: 0.0561\n",
      "Epoch 19/100\n",
      "11/11 [==============================] - 0s 18ms/step - loss: 0.0010 - val_loss: 0.0560\n",
      "Epoch 20/100\n",
      "11/11 [==============================] - 0s 18ms/step - loss: 9.3377e-04 - val_loss: 0.0559\n",
      "Epoch 21/100\n",
      "11/11 [==============================] - 0s 18ms/step - loss: 9.3426e-04 - val_loss: 0.0554\n",
      "Epoch 22/100\n",
      "11/11 [==============================] - 0s 18ms/step - loss: 8.8303e-04 - val_loss: 0.0553\n",
      "Epoch 23/100\n",
      "11/11 [==============================] - 0s 18ms/step - loss: 9.0219e-04 - val_loss: 0.0553\n",
      "Epoch 24/100\n",
      "11/11 [==============================] - 0s 18ms/step - loss: 9.5179e-04 - val_loss: 0.0553\n",
      "Epoch 25/100\n",
      "11/11 [==============================] - 0s 18ms/step - loss: 9.1668e-04 - val_loss: 0.0553\n",
      "Epoch 26/100\n",
      "11/11 [==============================] - 0s 18ms/step - loss: 9.5727e-04 - val_loss: 0.0556\n",
      "Epoch 27/100\n",
      "11/11 [==============================] - 0s 17ms/step - loss: 8.4918e-04 - val_loss: 0.0554\n",
      "Epoch 28/100\n",
      "11/11 [==============================] - 0s 18ms/step - loss: 9.1198e-04 - val_loss: 0.0555\n",
      "Epoch 29/100\n",
      "11/11 [==============================] - 0s 18ms/step - loss: 9.6754e-04 - val_loss: 0.0565\n",
      "Epoch 30/100\n",
      "11/11 [==============================] - 0s 18ms/step - loss: 8.9121e-04 - val_loss: 0.0564\n",
      "Epoch 31/100\n",
      "11/11 [==============================] - 0s 17ms/step - loss: 9.3841e-04 - val_loss: 0.0567\n",
      "Epoch 32/100\n",
      "11/11 [==============================] - 0s 18ms/step - loss: 8.5137e-04 - val_loss: 0.0576\n",
      "Epoch 33/100\n",
      "11/11 [==============================] - 0s 17ms/step - loss: 8.9828e-04 - val_loss: 0.0578\n",
      "Epoch 34/100\n",
      "11/11 [==============================] - 0s 17ms/step - loss: 8.4705e-04 - val_loss: 0.0573\n",
      "Epoch 35/100\n",
      "11/11 [==============================] - 0s 17ms/step - loss: 9.5662e-04 - val_loss: 0.0584\n",
      "Epoch 36/100\n",
      "11/11 [==============================] - 0s 18ms/step - loss: 9.0123e-04 - val_loss: 0.0603\n",
      "Epoch 37/100\n",
      "11/11 [==============================] - 0s 17ms/step - loss: 8.4998e-04 - val_loss: 0.0593\n",
      "Epoch 38/100\n",
      "11/11 [==============================] - 0s 18ms/step - loss: 8.9056e-04 - val_loss: 0.0601\n",
      "Epoch 39/100\n",
      "11/11 [==============================] - 0s 18ms/step - loss: 8.0299e-04 - val_loss: 0.0597\n",
      "Epoch 40/100\n",
      "11/11 [==============================] - 0s 17ms/step - loss: 7.6149e-04 - val_loss: 0.0616\n",
      "Epoch 41/100\n",
      "11/11 [==============================] - 0s 18ms/step - loss: 8.6786e-04 - val_loss: 0.0622\n",
      "Epoch 42/100\n",
      "11/11 [==============================] - 0s 18ms/step - loss: 7.5982e-04 - val_loss: 0.0654\n",
      "Epoch 43/100\n",
      "11/11 [==============================] - 0s 18ms/step - loss: 7.4609e-04 - val_loss: 0.0642\n",
      "Epoch 44/100\n",
      "11/11 [==============================] - 0s 18ms/step - loss: 7.9784e-04 - val_loss: 0.0653\n",
      "Epoch 45/100\n",
      "11/11 [==============================] - 0s 18ms/step - loss: 9.4084e-04 - val_loss: 0.0666\n",
      "Epoch 46/100\n",
      "11/11 [==============================] - 0s 18ms/step - loss: 8.2224e-04 - val_loss: 0.0661\n",
      "Epoch 47/100\n",
      "11/11 [==============================] - 0s 17ms/step - loss: 8.3059e-04 - val_loss: 0.0656\n",
      "Epoch 48/100\n",
      "11/11 [==============================] - 0s 17ms/step - loss: 8.6421e-04 - val_loss: 0.0689\n",
      "Epoch 49/100\n",
      "11/11 [==============================] - 0s 18ms/step - loss: 8.1949e-04 - val_loss: 0.0681\n",
      "Epoch 50/100\n",
      "11/11 [==============================] - 0s 18ms/step - loss: 7.1684e-04 - val_loss: 0.0678\n",
      "Epoch 51/100\n",
      "11/11 [==============================] - 0s 17ms/step - loss: 7.1950e-04 - val_loss: 0.0710\n",
      "Epoch 52/100\n",
      "11/11 [==============================] - 0s 18ms/step - loss: 6.9431e-04 - val_loss: 0.0725\n",
      "Epoch 53/100\n",
      "11/11 [==============================] - 0s 18ms/step - loss: 7.4875e-04 - val_loss: 0.0719\n",
      "Epoch 54/100\n",
      "11/11 [==============================] - 0s 18ms/step - loss: 7.8073e-04 - val_loss: 0.0701\n",
      "Epoch 55/100\n",
      "11/11 [==============================] - 0s 17ms/step - loss: 6.5720e-04 - val_loss: 0.0750\n",
      "Epoch 56/100\n",
      "11/11 [==============================] - 0s 18ms/step - loss: 7.3993e-04 - val_loss: 0.0747\n",
      "Epoch 57/100\n",
      "11/11 [==============================] - 0s 17ms/step - loss: 6.8437e-04 - val_loss: 0.0730\n",
      "Epoch 58/100\n",
      "11/11 [==============================] - 0s 18ms/step - loss: 7.5383e-04 - val_loss: 0.0735\n",
      "Epoch 59/100\n",
      "11/11 [==============================] - 0s 18ms/step - loss: 6.9642e-04 - val_loss: 0.0759\n",
      "Epoch 60/100\n",
      "11/11 [==============================] - 0s 17ms/step - loss: 6.8108e-04 - val_loss: 0.0794\n",
      "Epoch 61/100\n",
      "11/11 [==============================] - 0s 17ms/step - loss: 6.7516e-04 - val_loss: 0.0759\n",
      "Epoch 62/100\n",
      "11/11 [==============================] - 0s 18ms/step - loss: 6.8605e-04 - val_loss: 0.0770\n",
      "Epoch 63/100\n",
      "11/11 [==============================] - 0s 18ms/step - loss: 7.1608e-04 - val_loss: 0.0786\n",
      "Epoch 64/100\n",
      "11/11 [==============================] - 0s 17ms/step - loss: 6.8215e-04 - val_loss: 0.0768\n",
      "Epoch 65/100\n",
      "11/11 [==============================] - 0s 18ms/step - loss: 6.9631e-04 - val_loss: 0.0787\n",
      "Epoch 66/100\n",
      "11/11 [==============================] - 0s 18ms/step - loss: 6.4310e-04 - val_loss: 0.0792\n",
      "Epoch 67/100\n",
      "11/11 [==============================] - 0s 18ms/step - loss: 7.7404e-04 - val_loss: 0.0793\n",
      "Epoch 68/100\n",
      "11/11 [==============================] - 0s 18ms/step - loss: 7.4325e-04 - val_loss: 0.0778\n",
      "Epoch 69/100\n",
      "11/11 [==============================] - 0s 18ms/step - loss: 7.3944e-04 - val_loss: 0.0788\n",
      "Epoch 70/100\n",
      "11/11 [==============================] - 0s 18ms/step - loss: 7.5893e-04 - val_loss: 0.0769\n",
      "Epoch 71/100\n",
      "11/11 [==============================] - 0s 18ms/step - loss: 6.9535e-04 - val_loss: 0.0773\n",
      "Epoch 72/100\n",
      "11/11 [==============================] - 0s 17ms/step - loss: 7.5185e-04 - val_loss: 0.0771\n",
      "Epoch 73/100\n",
      "11/11 [==============================] - 0s 18ms/step - loss: 6.8540e-04 - val_loss: 0.0758\n",
      "Epoch 74/100\n",
      "11/11 [==============================] - 0s 17ms/step - loss: 7.4088e-04 - val_loss: 0.0766\n",
      "Epoch 75/100\n",
      "11/11 [==============================] - 0s 18ms/step - loss: 6.5140e-04 - val_loss: 0.0745\n",
      "Epoch 76/100\n",
      "11/11 [==============================] - 0s 18ms/step - loss: 8.1569e-04 - val_loss: 0.0784\n",
      "Epoch 77/100\n",
      "11/11 [==============================] - 0s 18ms/step - loss: 7.1873e-04 - val_loss: 0.0778\n",
      "Epoch 78/100\n",
      "11/11 [==============================] - 0s 18ms/step - loss: 6.7933e-04 - val_loss: 0.0778\n",
      "Epoch 79/100\n",
      "11/11 [==============================] - 0s 18ms/step - loss: 7.2556e-04 - val_loss: 0.0779\n",
      "Epoch 80/100\n",
      "11/11 [==============================] - 0s 18ms/step - loss: 8.6691e-04 - val_loss: 0.0793\n",
      "Epoch 81/100\n",
      "11/11 [==============================] - 0s 18ms/step - loss: 6.9926e-04 - val_loss: 0.0763\n",
      "Epoch 82/100\n",
      "11/11 [==============================] - 0s 18ms/step - loss: 6.8655e-04 - val_loss: 0.0755\n",
      "Epoch 83/100\n",
      "11/11 [==============================] - 0s 18ms/step - loss: 6.4083e-04 - val_loss: 0.0777\n",
      "Epoch 84/100\n",
      "11/11 [==============================] - 0s 18ms/step - loss: 6.6789e-04 - val_loss: 0.0780\n",
      "Epoch 85/100\n",
      "11/11 [==============================] - 0s 17ms/step - loss: 7.5129e-04 - val_loss: 0.0799\n",
      "Epoch 86/100\n",
      "11/11 [==============================] - 0s 18ms/step - loss: 6.1969e-04 - val_loss: 0.0798\n",
      "Epoch 87/100\n",
      "11/11 [==============================] - 0s 18ms/step - loss: 5.8826e-04 - val_loss: 0.0790\n",
      "Epoch 88/100\n",
      "11/11 [==============================] - 0s 18ms/step - loss: 6.3799e-04 - val_loss: 0.0770\n",
      "Epoch 89/100\n",
      "11/11 [==============================] - 0s 18ms/step - loss: 6.8679e-04 - val_loss: 0.0730\n",
      "Epoch 90/100\n",
      "11/11 [==============================] - 0s 18ms/step - loss: 7.2700e-04 - val_loss: 0.0763\n",
      "Epoch 91/100\n",
      "11/11 [==============================] - 0s 18ms/step - loss: 7.0359e-04 - val_loss: 0.0781\n",
      "Epoch 92/100\n",
      "11/11 [==============================] - 0s 18ms/step - loss: 6.7866e-04 - val_loss: 0.0783\n",
      "Epoch 93/100\n",
      "11/11 [==============================] - 0s 17ms/step - loss: 7.5350e-04 - val_loss: 0.0788\n",
      "Epoch 94/100\n",
      "11/11 [==============================] - 0s 18ms/step - loss: 7.3981e-04 - val_loss: 0.0794\n",
      "Epoch 95/100\n",
      "11/11 [==============================] - 0s 18ms/step - loss: 6.3259e-04 - val_loss: 0.0785\n",
      "Epoch 96/100\n",
      "11/11 [==============================] - 0s 18ms/step - loss: 7.0309e-04 - val_loss: 0.0749\n",
      "Epoch 97/100\n",
      "11/11 [==============================] - 0s 18ms/step - loss: 6.7814e-04 - val_loss: 0.0723\n",
      "Epoch 98/100\n",
      "11/11 [==============================] - 0s 18ms/step - loss: 6.2029e-04 - val_loss: 0.0721\n",
      "Epoch 99/100\n",
      "11/11 [==============================] - 0s 17ms/step - loss: 6.3320e-04 - val_loss: 0.0726\n",
      "Epoch 100/100\n",
      "11/11 [==============================] - 0s 18ms/step - loss: 6.2801e-04 - val_loss: 0.0720\n"
     ]
    },
    {
     "data": {
      "text/plain": [
       "<matplotlib.legend.Legend at 0x7fa1a051aeb0>"
      ]
     },
     "execution_count": 6,
     "metadata": {},
     "output_type": "execute_result"
    },
    {
     "data": {
      "image/png": "[encoded data removed]",
      "text/plain": [
       "<Figure size 432x288 with 1 Axes>"
      ]
     },
     "metadata": {
      "needs_background": "light"
     },
     "output_type": "display_data"
    }
   ],
   "source": [
    "history = model.fit(train_ds_windows_X, train_ds_windows_y, epochs=100, batch_size=128, validation_split=0.2, verbose=1)\n",
    "\n",
    "plt.plot(history.history['loss'], label='Training loss')\n",
    "plt.plot(history.history['val_loss'], label='Validation loss')\n",
    "plt.legend()"
   ]
  },
  {
   "cell_type": "code",
   "execution_count": 7,
   "metadata": {},
   "outputs": [],
   "source": [
    "prediction = model.predict(test_ds_windows_X)"
   ]
  },
  {
   "cell_type": "code",
   "execution_count": 8,
   "metadata": {},
   "outputs": [
    {
     "name": "stdout",
     "output_type": "stream",
     "text": [
      "The shape of predictions is (427,)\n"
     ]
    }
   ],
   "source": [
    "prediction_copies = np.repeat(prediction, test_ds.shape[1], axis=-1)\n",
    "true_predictions = scaler.inverse_transform(prediction_copies)[:,0]\n",
    "\n",
    "print(f\"The shape of predictions is {true_predictions.shape}\")"
   ]
  },
  {
   "cell_type": "code",
   "execution_count": 9,
   "metadata": {},
   "outputs": [],
   "source": [
    "df_forecast = pd.DataFrame({'Date':np.array(test_dates[lookback_:]), 'Predictions':true_predictions.flatten(), 'Actual':test_ds_temp[lookback_:][\"Close\"]})\n",
    "df_forecast['Date']=pd.to_datetime(df_forecast['Date'])"
   ]
  },
  {
   "cell_type": "code",
   "execution_count": 10,
   "metadata": {},
   "outputs": [
    {
     "data": {
      "text/html": [
       "<div>\n",
       "<style scoped>\n",
       "    .dataframe tbody tr th:only-of-type {\n",
       "        vertical-align: middle;\n",
       "    }\n",
       "\n",
       "    .dataframe tbody tr th {\n",
       "        vertical-align: top;\n",
       "    }\n",
       "\n",
       "    .dataframe thead th {\n",
       "        text-align: right;\n",
       "    }\n",
       "</style>\n",
       "<table border=\"1\" class=\"dataframe\">\n",
       "  <thead>\n",
       "    <tr style=\"text-align: right;\">\n",
       "      <th></th>\n",
       "      <th>Date</th>\n",
       "      <th>Predictions</th>\n",
       "      <th>Actual</th>\n",
       "    </tr>\n",
       "  </thead>\n",
       "  <tbody>\n",
       "    <tr>\n",
       "      <th>1973</th>\n",
       "      <td>2018-09-23</td>\n",
       "      <td>6535.417480</td>\n",
       "      <td>6710.630000</td>\n",
       "    </tr>\n",
       "    <tr>\n",
       "      <th>1974</th>\n",
       "      <td>2018-09-24</td>\n",
       "      <td>6556.080078</td>\n",
       "      <td>6595.410000</td>\n",
       "    </tr>\n",
       "    <tr>\n",
       "      <th>1975</th>\n",
       "      <td>2018-09-25</td>\n",
       "      <td>6519.005859</td>\n",
       "      <td>6446.470000</td>\n",
       "    </tr>\n",
       "    <tr>\n",
       "      <th>1976</th>\n",
       "      <td>2018-09-26</td>\n",
       "      <td>6517.176758</td>\n",
       "      <td>6495.000000</td>\n",
       "    </tr>\n",
       "    <tr>\n",
       "      <th>1977</th>\n",
       "      <td>2018-09-27</td>\n",
       "      <td>6454.677734</td>\n",
       "      <td>6676.750000</td>\n",
       "    </tr>\n",
       "    <tr>\n",
       "      <th>...</th>\n",
       "      <td>...</td>\n",
       "      <td>...</td>\n",
       "      <td>...</td>\n",
       "    </tr>\n",
       "    <tr>\n",
       "      <th>2395</th>\n",
       "      <td>2019-11-19</td>\n",
       "      <td>8488.943359</td>\n",
       "      <td>8206.145918</td>\n",
       "    </tr>\n",
       "    <tr>\n",
       "      <th>2396</th>\n",
       "      <td>2019-11-20</td>\n",
       "      <td>8539.808594</td>\n",
       "      <td>8027.268243</td>\n",
       "    </tr>\n",
       "    <tr>\n",
       "      <th>2397</th>\n",
       "      <td>2019-11-21</td>\n",
       "      <td>8346.115234</td>\n",
       "      <td>7642.749945</td>\n",
       "    </tr>\n",
       "    <tr>\n",
       "      <th>2398</th>\n",
       "      <td>2019-11-22</td>\n",
       "      <td>8183.743164</td>\n",
       "      <td>7296.577568</td>\n",
       "    </tr>\n",
       "    <tr>\n",
       "      <th>2399</th>\n",
       "      <td>2019-11-23</td>\n",
       "      <td>8343.372070</td>\n",
       "      <td>7397.796815</td>\n",
       "    </tr>\n",
       "  </tbody>\n",
       "</table>\n",
       "<p>427 rows × 3 columns</p>\n",
       "</div>"
      ],
      "text/plain": [
       "           Date  Predictions       Actual\n",
       "1973 2018-09-23  6535.417480  6710.630000\n",
       "1974 2018-09-24  6556.080078  6595.410000\n",
       "1975 2018-09-25  6519.005859  6446.470000\n",
       "1976 2018-09-26  6517.176758  6495.000000\n",
       "1977 2018-09-27  6454.677734  6676.750000\n",
       "...         ...          ...          ...\n",
       "2395 2019-11-19  8488.943359  8206.145918\n",
       "2396 2019-11-20  8539.808594  8027.268243\n",
       "2397 2019-11-21  8346.115234  7642.749945\n",
       "2398 2019-11-22  8183.743164  7296.577568\n",
       "2399 2019-11-23  8343.372070  7397.796815\n",
       "\n",
       "[427 rows x 3 columns]"
      ]
     },
     "execution_count": 10,
     "metadata": {},
     "output_type": "execute_result"
    }
   ],
   "source": [
    "df_forecast"
   ]
  },
  {
   "cell_type": "code",
   "execution_count": 11,
   "metadata": {},
   "outputs": [
    {
     "data": {
      "text/plain": [
       "<matplotlib.legend.Legend at 0x7fa17c15ed30>"
      ]
     },
     "execution_count": 11,
     "metadata": {},
     "output_type": "execute_result"
    },
    {
     "data": {
      "image/png": "[encoded data removed]",
      "text/plain": [
       "<Figure size 1440x360 with 1 Axes>"
      ]
     },
     "metadata": {
      "needs_background": "light"
     },
     "output_type": "display_data"
    }
   ],
   "source": [
    "plt.rcParams[\"figure.figsize\"] = (20,5)\n",
    "plt.plot(df_forecast['Date'], df_forecast['Actual'], label = \"Avtual\")\n",
    "plt.plot(df_forecast['Date'], df_forecast['Predictions'], label = \"Prediction\")\n",
    "plt.legend()"
   ]
  },
  {
   "cell_type": "code",
   "execution_count": 12,
   "metadata": {},
   "outputs": [],
   "source": [
    "merged_df = df_forecast"
   ]
  },
  {
   "cell_type": "code",
   "execution_count": 16,
   "metadata": {},
   "outputs": [
    {
     "name": "stdout",
     "output_type": "stream",
     "text": [
      "total hits are 223 and total misses are 201\n"
     ]
    }
   ],
   "source": [
    "merged_df[\"Actual_prev\"] = merged_df[\"Actual\"].shift(+1)\n",
    "merged_df[\"Pred_prev\"] = merged_df[\"Predictions\"].shift(+1)\n",
    "merged_df = merged_df.dropna()\n",
    "\n",
    "merged_df['Actual_target'] = merged_df[['Actual','Actual_prev']].apply(lambda x: 1 if x.Actual > x.Actual_prev else 0, axis=1)\n",
    "merged_df['Pred_target'] = merged_df[['Predictions','Pred_prev']].apply(lambda x: 1 if x.Predictions > x.Pred_prev else 0, axis=1)\n",
    "\n",
    "act = list(merged_df[\"Actual_target\"])\n",
    "pred = list(merged_df[\"Pred_target\"])\n",
    "\n",
    "hit = 0\n",
    "miss = 0\n",
    "for i in range(len(act)):\n",
    "    if act[i] == pred[i]:\n",
    "        hit+=1\n",
    "    else:\n",
    "        miss+=1\n",
    "print(f\"total hits are {hit} and total misses are {miss}\")"
   ]
  }
 ],
 "metadata": {
  "interpreter": {
   "hash": "79b4d08203c1a9e3c21d275df1cd381e28813bd86e909f4da489796a89237e93"
  },
  "kernelspec": {
   "display_name": "Python 3.9.7 64-bit ('tf-gpu': conda)",
   "language": "python",
   "name": "python3"
  },
  "language_info": {
   "codemirror_mode": {
    "name": "ipython",
    "version": 3
   },
   "file_extension": ".py",
   "mimetype": "text/x-python",
   "name": "python",
   "nbconvert_exporter": "python",
   "pygments_lexer": "ipython3",
   "version": "3.9.7"
  },
  "orig_nbformat": 4
 },
 "nbformat": 4,
 "nbformat_minor": 2
}
