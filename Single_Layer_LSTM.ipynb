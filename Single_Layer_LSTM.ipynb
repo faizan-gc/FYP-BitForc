{
 "cells": [
  {
   "cell_type": "code",
   "execution_count": 14,
   "metadata": {},
   "outputs": [],
   "source": [
    "import pandas as pd\n",
    "import numpy as np\n",
    "import os\n",
    "import getpass\n",
    "import re\n",
    "import nltk\n",
    "import tqdm\n",
    "from nltk.corpus import stopwords\n",
    "from nltk.stem.snowball import SnowballStemmer\n",
    "from vaderSentiment.vaderSentiment import SentimentIntensityAnalyzer\n",
    "import swifter\n",
    "import matplotlib as plt\n",
    "import matplotlib.pyplot as plt \n",
    "import os\n",
    "from tqdm import tqdm\n",
    "from sklearn.preprocessing import StandardScaler\n",
    "scaler = StandardScaler()\n",
    "from sklearn.preprocessing import MinMaxScaler\n",
    "from sklearn.model_selection import train_test_split\n",
    "from keras.preprocessing.sequence import TimeseriesGenerator\n",
    "from tensorflow.keras.models import Sequential\n",
    "from tensorflow.keras.layers import Dense\n",
    "from tensorflow.keras.layers import LSTM\n",
    "from tensorflow.keras.layers import Dense, Dropout\n",
    "from keras import optimizers"
   ]
  },
  {
   "cell_type": "code",
   "execution_count": 15,
   "metadata": {},
   "outputs": [
    {
     "name": "stdout",
     "output_type": "stream",
     "text": [
      "training dataset contains 1721 samples and test dataset contains 431 samples\n"
     ]
    }
   ],
   "source": [
    "dff = pd.read_csv(\"Merged_Finall.csv\")\n",
    "dff = dff[dff[\"Date\"] > \"2014-01-01\"]\n",
    "temp_dff = dff\n",
    "dff = dff[[\"Close\", \"Open\",\"Low\", \"High\",\"Volume\",\"FinalScore\"]]\n",
    "\n",
    "\n",
    "scaler = StandardScaler()\n",
    "scaler = scaler.fit(dff)\n",
    "scaled_df = scaler.transform(dff)\n",
    "\n",
    "training_ds = scaled_df[:(int(len(scaled_df) * 0.8))]\n",
    "test_ds = scaled_df[(int(len(scaled_df) * 0.8)):]\n",
    "\n",
    "print(f\"training dataset contains {len(training_ds)} samples and test dataset contains {len(test_ds)} samples\")\n",
    "\n",
    "\n",
    "training_ds_temp = temp_dff[:(int(len(temp_dff) * 0.8))]\n",
    "test_ds_temp = temp_dff[(int(len(temp_dff) * 0.8)):]\n",
    "\n",
    "train_dates = pd.to_datetime(training_ds_temp['Date'])\n",
    "test_dates = pd.to_datetime(test_ds_temp['Date'])"
   ]
  },
  {
   "cell_type": "code",
   "execution_count": 16,
   "metadata": {},
   "outputs": [],
   "source": [
    "def sliding_windows(dataset, future, lookback, label_col):\n",
    "    \n",
    "    Features = []\n",
    "    label = []\n",
    "\n",
    "    n_future = future \n",
    "    n_past = lookback\n",
    "\n",
    "    for i in range(n_past, len(dataset) - n_future +1):\n",
    "        Features.append(dataset[i - n_past:i, 0:dataset.shape[1]])\n",
    "        label.append(dataset[i + n_future - 1:i + n_future, label_col]) #0 means our label class in 1st column.\n",
    "\n",
    "    Features, label = np.array(Features).astype(np.float32), np.array(label).astype(np.float32)\n",
    "\n",
    "    print('Features shape == {}.'.format(Features.shape))\n",
    "    print('label shape == {}.'.format(label.shape))\n",
    "\n",
    "    return Features, label"
   ]
  },
  {
   "cell_type": "code",
   "execution_count": 17,
   "metadata": {},
   "outputs": [
    {
     "name": "stdout",
     "output_type": "stream",
     "text": [
      "Features shape == (1717, 4, 6).\n",
      "label shape == (1717, 1).\n",
      "Features shape == (427, 4, 6).\n",
      "label shape == (427, 1).\n"
     ]
    }
   ],
   "source": [
    "future_ = 1\n",
    "lookback_ = 4\n",
    "\n",
    "train_ds_windows_X, train_ds_windows_y  = sliding_windows(training_ds, future_, lookback_, 0)\n",
    "test_ds_windows_X, test_ds_windows_y  = sliding_windows(test_ds, future_, lookback_, 0)"
   ]
  },
  {
   "cell_type": "code",
   "execution_count": 18,
   "metadata": {},
   "outputs": [
    {
     "name": "stdout",
     "output_type": "stream",
     "text": [
      "Model: \"sequential_1\"\n",
      "_________________________________________________________________\n",
      "Layer (type)                 Output Shape              Param #   \n",
      "=================================================================\n",
      "lstm_1 (LSTM)                (None, 800)               2582400   \n",
      "_________________________________________________________________\n",
      "dropout_1 (Dropout)          (None, 800)               0         \n",
      "_________________________________________________________________\n",
      "dense_1 (Dense)              (None, 1)                 801       \n",
      "=================================================================\n",
      "Total params: 2,583,201\n",
      "Trainable params: 2,583,201\n",
      "Non-trainable params: 0\n",
      "_________________________________________________________________\n"
     ]
    }
   ],
   "source": [
    "model = Sequential()\n",
    "model.add(LSTM(800, input_shape=(train_ds_windows_X.shape[1], train_ds_windows_X.shape[2]), return_sequences=False))\n",
    "model.add(Dropout(0.2))\n",
    "model.add(Dense(train_ds_windows_y.shape[1]))\n",
    "\n",
    "\n",
    "model.compile(loss='mean_squared_error',optimizer='adam')\n",
    "model.summary()"
   ]
  },
  {
   "cell_type": "code",
   "execution_count": 19,
   "metadata": {},
   "outputs": [
    {
     "name": "stdout",
     "output_type": "stream",
     "text": [
      "Epoch 1/100\n",
      "11/11 [==============================] - 1s 62ms/step - loss: 0.1359 - val_loss: 0.3387\n",
      "Epoch 2/100\n",
      "11/11 [==============================] - 0s 36ms/step - loss: 0.0156 - val_loss: 0.0642\n",
      "Epoch 3/100\n",
      "11/11 [==============================] - 0s 37ms/step - loss: 0.0031 - val_loss: 0.0621\n",
      "Epoch 4/100\n",
      "11/11 [==============================] - 0s 36ms/step - loss: 0.0022 - val_loss: 0.0608\n",
      "Epoch 5/100\n",
      "11/11 [==============================] - 0s 36ms/step - loss: 0.0014 - val_loss: 0.0759\n",
      "Epoch 6/100\n",
      "11/11 [==============================] - 0s 36ms/step - loss: 9.4753e-04 - val_loss: 0.0912\n",
      "Epoch 7/100\n",
      "11/11 [==============================] - 0s 36ms/step - loss: 9.3006e-04 - val_loss: 0.0895\n",
      "Epoch 8/100\n",
      "11/11 [==============================] - 0s 36ms/step - loss: 9.3485e-04 - val_loss: 0.0872\n",
      "Epoch 9/100\n",
      "11/11 [==============================] - 0s 36ms/step - loss: 8.5945e-04 - val_loss: 0.0856\n",
      "Epoch 10/100\n",
      "11/11 [==============================] - 0s 36ms/step - loss: 9.3449e-04 - val_loss: 0.0830\n",
      "Epoch 11/100\n",
      "11/11 [==============================] - 0s 36ms/step - loss: 8.3554e-04 - val_loss: 0.0760\n",
      "Epoch 12/100\n",
      "11/11 [==============================] - 0s 36ms/step - loss: 8.7098e-04 - val_loss: 0.0731\n",
      "Epoch 13/100\n",
      "11/11 [==============================] - 0s 37ms/step - loss: 8.3856e-04 - val_loss: 0.0724\n",
      "Epoch 14/100\n",
      "11/11 [==============================] - 0s 37ms/step - loss: 7.5812e-04 - val_loss: 0.0699\n",
      "Epoch 15/100\n",
      "11/11 [==============================] - 0s 36ms/step - loss: 9.4417e-04 - val_loss: 0.0661\n",
      "Epoch 16/100\n",
      "11/11 [==============================] - 0s 36ms/step - loss: 7.0865e-04 - val_loss: 0.0644\n",
      "Epoch 17/100\n",
      "11/11 [==============================] - 0s 36ms/step - loss: 8.1404e-04 - val_loss: 0.0632\n",
      "Epoch 18/100\n",
      "11/11 [==============================] - 0s 37ms/step - loss: 7.5648e-04 - val_loss: 0.0616e-\n",
      "Epoch 19/100\n",
      "11/11 [==============================] - 0s 36ms/step - loss: 8.0094e-04 - val_loss: 0.0597\n",
      "Epoch 20/100\n",
      "11/11 [==============================] - 0s 36ms/step - loss: 8.7725e-04 - val_loss: 0.0574\n",
      "Epoch 21/100\n",
      "11/11 [==============================] - 0s 36ms/step - loss: 8.3203e-04 - val_loss: 0.0562\n",
      "Epoch 22/100\n",
      "11/11 [==============================] - 0s 36ms/step - loss: 8.1429e-04 - val_loss: 0.0536\n",
      "Epoch 23/100\n",
      "11/11 [==============================] - 0s 36ms/step - loss: 7.3179e-04 - val_loss: 0.0536\n",
      "Epoch 24/100\n",
      "11/11 [==============================] - 0s 36ms/step - loss: 9.3449e-04 - val_loss: 0.0524\n",
      "Epoch 25/100\n",
      "11/11 [==============================] - 0s 37ms/step - loss: 7.7994e-04 - val_loss: 0.0513\n",
      "Epoch 26/100\n",
      "11/11 [==============================] - 0s 37ms/step - loss: 7.2121e-04 - val_loss: 0.0507\n",
      "Epoch 27/100\n",
      "11/11 [==============================] - 0s 37ms/step - loss: 7.3080e-04 - val_loss: 0.0511\n",
      "Epoch 28/100\n",
      "11/11 [==============================] - 0s 37ms/step - loss: 7.5921e-04 - val_loss: 0.0499\n",
      "Epoch 29/100\n",
      "11/11 [==============================] - 0s 37ms/step - loss: 7.0495e-04 - val_loss: 0.0493\n",
      "Epoch 30/100\n",
      "11/11 [==============================] - 0s 36ms/step - loss: 7.0855e-04 - val_loss: 0.0489\n",
      "Epoch 31/100\n",
      "11/11 [==============================] - 0s 37ms/step - loss: 6.6505e-04 - val_loss: 0.0486\n",
      "Epoch 32/100\n",
      "11/11 [==============================] - 0s 37ms/step - loss: 6.1744e-04 - val_loss: 0.0484\n",
      "Epoch 33/100\n",
      "11/11 [==============================] - 0s 37ms/step - loss: 6.6714e-04 - val_loss: 0.0481\n",
      "Epoch 34/100\n",
      "11/11 [==============================] - 0s 37ms/step - loss: 6.3173e-04 - val_loss: 0.0479\n",
      "Epoch 35/100\n",
      "11/11 [==============================] - 0s 36ms/step - loss: 6.7556e-04 - val_loss: 0.0480\n",
      "Epoch 36/100\n",
      "11/11 [==============================] - 0s 37ms/step - loss: 6.3786e-04 - val_loss: 0.0481\n",
      "Epoch 37/100\n",
      "11/11 [==============================] - 0s 36ms/step - loss: 6.3371e-04 - val_loss: 0.0479\n",
      "Epoch 38/100\n",
      "11/11 [==============================] - 0s 37ms/step - loss: 6.5058e-04 - val_loss: 0.0488\n",
      "Epoch 39/100\n",
      "11/11 [==============================] - 0s 37ms/step - loss: 5.9026e-04 - val_loss: 0.0490\n",
      "Epoch 40/100\n",
      "11/11 [==============================] - 0s 36ms/step - loss: 5.7972e-04 - val_loss: 0.0495\n",
      "Epoch 41/100\n",
      "11/11 [==============================] - 0s 36ms/step - loss: 5.9821e-04 - val_loss: 0.0503\n",
      "Epoch 42/100\n",
      "11/11 [==============================] - 0s 36ms/step - loss: 6.2907e-04 - val_loss: 0.0496\n",
      "Epoch 43/100\n",
      "11/11 [==============================] - 0s 36ms/step - loss: 5.9918e-04 - val_loss: 0.0508\n",
      "Epoch 44/100\n",
      "11/11 [==============================] - 0s 37ms/step - loss: 6.3230e-04 - val_loss: 0.0518\n",
      "Epoch 45/100\n",
      "11/11 [==============================] - 0s 36ms/step - loss: 6.2547e-04 - val_loss: 0.0518\n",
      "Epoch 46/100\n",
      "11/11 [==============================] - 0s 37ms/step - loss: 5.8513e-04 - val_loss: 0.0521\n",
      "Epoch 47/100\n",
      "11/11 [==============================] - 0s 36ms/step - loss: 6.3355e-04 - val_loss: 0.0517\n",
      "Epoch 48/100\n",
      "11/11 [==============================] - 0s 36ms/step - loss: 5.8887e-04 - val_loss: 0.0508\n",
      "Epoch 49/100\n",
      "11/11 [==============================] - 0s 36ms/step - loss: 6.3432e-04 - val_loss: 0.0505\n",
      "Epoch 50/100\n",
      "11/11 [==============================] - 0s 36ms/step - loss: 6.0438e-04 - val_loss: 0.0523\n",
      "Epoch 51/100\n",
      "11/11 [==============================] - 0s 36ms/step - loss: 5.6881e-04 - val_loss: 0.0528\n",
      "Epoch 52/100\n",
      "11/11 [==============================] - 0s 36ms/step - loss: 5.4829e-04 - val_loss: 0.0560\n",
      "Epoch 53/100\n",
      "11/11 [==============================] - 0s 36ms/step - loss: 5.7361e-04 - val_loss: 0.0537\n",
      "Epoch 54/100\n",
      "11/11 [==============================] - 0s 36ms/step - loss: 5.6105e-04 - val_loss: 0.0543\n",
      "Epoch 55/100\n",
      "11/11 [==============================] - 0s 36ms/step - loss: 6.0829e-04 - val_loss: 0.0565\n",
      "Epoch 56/100\n",
      "11/11 [==============================] - 0s 37ms/step - loss: 6.8004e-04 - val_loss: 0.0578\n",
      "Epoch 57/100\n",
      "11/11 [==============================] - 0s 37ms/step - loss: 5.6350e-04 - val_loss: 0.0549\n",
      "Epoch 58/100\n",
      "11/11 [==============================] - 0s 37ms/step - loss: 6.1040e-04 - val_loss: 0.0541\n",
      "Epoch 59/100\n",
      "11/11 [==============================] - 0s 37ms/step - loss: 5.5028e-04 - val_loss: 0.0555\n",
      "Epoch 60/100\n",
      "11/11 [==============================] - 0s 37ms/step - loss: 6.8673e-04 - val_loss: 0.0560\n",
      "Epoch 61/100\n",
      "11/11 [==============================] - 0s 37ms/step - loss: 6.1954e-04 - val_loss: 0.0550\n",
      "Epoch 62/100\n",
      "11/11 [==============================] - 0s 37ms/step - loss: 6.7720e-04 - val_loss: 0.0534\n",
      "Epoch 63/100\n",
      "11/11 [==============================] - 0s 36ms/step - loss: 6.1367e-04 - val_loss: 0.0563\n",
      "Epoch 64/100\n",
      "11/11 [==============================] - 0s 36ms/step - loss: 6.5311e-04 - val_loss: 0.0560\n",
      "Epoch 65/100\n",
      "11/11 [==============================] - 0s 36ms/step - loss: 6.1480e-04 - val_loss: 0.0543\n",
      "Epoch 66/100\n",
      "11/11 [==============================] - 0s 37ms/step - loss: 5.8798e-04 - val_loss: 0.0511\n",
      "Epoch 67/100\n",
      "11/11 [==============================] - 0s 37ms/step - loss: 5.5946e-04 - val_loss: 0.0522\n",
      "Epoch 68/100\n",
      "11/11 [==============================] - 0s 36ms/step - loss: 4.9222e-04 - val_loss: 0.0549\n",
      "Epoch 69/100\n",
      "11/11 [==============================] - 0s 36ms/step - loss: 5.3464e-04 - val_loss: 0.0551\n",
      "Epoch 70/100\n",
      "11/11 [==============================] - 0s 37ms/step - loss: 6.1077e-04 - val_loss: 0.0554\n",
      "Epoch 71/100\n",
      "11/11 [==============================] - 0s 37ms/step - loss: 6.7477e-04 - val_loss: 0.0556\n",
      "Epoch 72/100\n",
      "11/11 [==============================] - 0s 37ms/step - loss: 5.4208e-04 - val_loss: 0.0539\n",
      "Epoch 73/100\n",
      "11/11 [==============================] - 0s 36ms/step - loss: 5.1152e-04 - val_loss: 0.0541\n",
      "Epoch 74/100\n",
      "11/11 [==============================] - 0s 37ms/step - loss: 5.0256e-04 - val_loss: 0.0568\n",
      "Epoch 75/100\n",
      "11/11 [==============================] - 0s 36ms/step - loss: 5.5600e-04 - val_loss: 0.0590\n",
      "Epoch 76/100\n",
      "11/11 [==============================] - 0s 37ms/step - loss: 5.7733e-04 - val_loss: 0.0605\n",
      "Epoch 77/100\n",
      "11/11 [==============================] - 0s 37ms/step - loss: 5.6214e-04 - val_loss: 0.0609\n",
      "Epoch 78/100\n",
      "11/11 [==============================] - 0s 37ms/step - loss: 5.1463e-04 - val_loss: 0.0576\n",
      "Epoch 79/100\n",
      "11/11 [==============================] - 0s 36ms/step - loss: 5.6792e-04 - val_loss: 0.0638\n",
      "Epoch 80/100\n",
      "11/11 [==============================] - 0s 36ms/step - loss: 6.6627e-04 - val_loss: 0.0584\n",
      "Epoch 81/100\n",
      "11/11 [==============================] - 0s 37ms/step - loss: 5.3798e-04 - val_loss: 0.0599\n",
      "Epoch 82/100\n",
      "11/11 [==============================] - 0s 36ms/step - loss: 5.2214e-04 - val_loss: 0.0598\n",
      "Epoch 83/100\n",
      "11/11 [==============================] - 0s 36ms/step - loss: 4.9768e-04 - val_loss: 0.0613\n",
      "Epoch 84/100\n",
      "11/11 [==============================] - 0s 36ms/step - loss: 5.5414e-04 - val_loss: 0.0661\n",
      "Epoch 85/100\n",
      "11/11 [==============================] - 0s 36ms/step - loss: 6.3876e-04 - val_loss: 0.0607\n",
      "Epoch 86/100\n",
      "11/11 [==============================] - 0s 36ms/step - loss: 5.6685e-04 - val_loss: 0.0645\n",
      "Epoch 87/100\n",
      "11/11 [==============================] - 0s 36ms/step - loss: 6.3803e-04 - val_loss: 0.0638\n",
      "Epoch 88/100\n",
      "11/11 [==============================] - 0s 36ms/step - loss: 4.7877e-04 - val_loss: 0.0619\n",
      "Epoch 89/100\n",
      "11/11 [==============================] - 0s 36ms/step - loss: 5.7685e-04 - val_loss: 0.0635\n",
      "Epoch 90/100\n",
      "11/11 [==============================] - 0s 38ms/step - loss: 4.2607e-04 - val_loss: 0.0620\n",
      "Epoch 91/100\n",
      "11/11 [==============================] - 0s 36ms/step - loss: 5.4971e-04 - val_loss: 0.0676\n",
      "Epoch 92/100\n",
      "11/11 [==============================] - 0s 37ms/step - loss: 4.9545e-04 - val_loss: 0.0683\n",
      "Epoch 93/100\n",
      "11/11 [==============================] - 0s 36ms/step - loss: 5.9032e-04 - val_loss: 0.0698\n",
      "Epoch 94/100\n",
      "11/11 [==============================] - 0s 37ms/step - loss: 5.1745e-04 - val_loss: 0.0713\n",
      "Epoch 95/100\n",
      "11/11 [==============================] - 0s 37ms/step - loss: 5.0435e-04 - val_loss: 0.0717\n",
      "Epoch 96/100\n",
      "11/11 [==============================] - 0s 36ms/step - loss: 5.2929e-04 - val_loss: 0.0707\n",
      "Epoch 97/100\n",
      "11/11 [==============================] - 0s 36ms/step - loss: 4.8569e-04 - val_loss: 0.0703\n",
      "Epoch 98/100\n",
      "11/11 [==============================] - 0s 37ms/step - loss: 5.1012e-04 - val_loss: 0.0703\n",
      "Epoch 99/100\n",
      "11/11 [==============================] - 0s 37ms/step - loss: 6.0399e-04 - val_loss: 0.0798\n",
      "Epoch 100/100\n",
      "11/11 [==============================] - 0s 36ms/step - loss: 6.1778e-04 - val_loss: 0.0760\n"
     ]
    },
    {
     "data": {
      "text/plain": [
       "<matplotlib.legend.Legend at 0x7f08954054c0>"
      ]
     },
     "execution_count": 19,
     "metadata": {},
     "output_type": "execute_result"
    },
    {
     "data": {
      "image/png": "[encoded data removed]",
      "text/plain": [
       "<Figure size 1440x360 with 1 Axes>"
      ]
     },
     "metadata": {
      "needs_background": "light"
     },
     "output_type": "display_data"
    }
   ],
   "source": [
    "history = model.fit(train_ds_windows_X, train_ds_windows_y, epochs=100, batch_size=128, validation_split=0.2, verbose=1)\n",
    "\n",
    "plt.plot(history.history['loss'], label='Training loss')\n",
    "plt.plot(history.history['val_loss'], label='Validation loss')\n",
    "plt.legend()"
   ]
  },
  {
   "cell_type": "code",
   "execution_count": 20,
   "metadata": {},
   "outputs": [],
   "source": [
    "prediction = model.predict(test_ds_windows_X)"
   ]
  },
  {
   "cell_type": "code",
   "execution_count": 21,
   "metadata": {},
   "outputs": [
    {
     "name": "stdout",
     "output_type": "stream",
     "text": [
      "The shape of predictions is (427,)\n"
     ]
    }
   ],
   "source": [
    "prediction_copies = np.repeat(prediction, test_ds.shape[1], axis=-1)\n",
    "true_predictions = scaler.inverse_transform(prediction_copies)[:,0]\n",
    "\n",
    "print(f\"The shape of predictions is {true_predictions.shape}\")"
   ]
  },
  {
   "cell_type": "code",
   "execution_count": 22,
   "metadata": {},
   "outputs": [],
   "source": [
    "df_forecast = pd.DataFrame({'Date':np.array(test_dates[lookback_:]), 'Predictions':true_predictions.flatten(), 'Actual':test_ds_temp[lookback_:][\"Close\"]})\n",
    "df_forecast['Date']=pd.to_datetime(df_forecast['Date'])"
   ]
  },
  {
   "cell_type": "code",
   "execution_count": 23,
   "metadata": {},
   "outputs": [
    {
     "data": {
      "text/html": [
       "<div>\n",
       "<style scoped>\n",
       "    .dataframe tbody tr th:only-of-type {\n",
       "        vertical-align: middle;\n",
       "    }\n",
       "\n",
       "    .dataframe tbody tr th {\n",
       "        vertical-align: top;\n",
       "    }\n",
       "\n",
       "    .dataframe thead th {\n",
       "        text-align: right;\n",
       "    }\n",
       "</style>\n",
       "<table border=\"1\" class=\"dataframe\">\n",
       "  <thead>\n",
       "    <tr style=\"text-align: right;\">\n",
       "      <th></th>\n",
       "      <th>Date</th>\n",
       "      <th>Predictions</th>\n",
       "      <th>Actual</th>\n",
       "    </tr>\n",
       "  </thead>\n",
       "  <tbody>\n",
       "    <tr>\n",
       "      <th>1973</th>\n",
       "      <td>2018-09-23</td>\n",
       "      <td>6606.153809</td>\n",
       "      <td>6710.630000</td>\n",
       "    </tr>\n",
       "    <tr>\n",
       "      <th>1974</th>\n",
       "      <td>2018-09-24</td>\n",
       "      <td>6625.747070</td>\n",
       "      <td>6595.410000</td>\n",
       "    </tr>\n",
       "    <tr>\n",
       "      <th>1975</th>\n",
       "      <td>2018-09-25</td>\n",
       "      <td>6580.946777</td>\n",
       "      <td>6446.470000</td>\n",
       "    </tr>\n",
       "    <tr>\n",
       "      <th>1976</th>\n",
       "      <td>2018-09-26</td>\n",
       "      <td>6522.949219</td>\n",
       "      <td>6495.000000</td>\n",
       "    </tr>\n",
       "    <tr>\n",
       "      <th>1977</th>\n",
       "      <td>2018-09-27</td>\n",
       "      <td>6447.865234</td>\n",
       "      <td>6676.750000</td>\n",
       "    </tr>\n",
       "    <tr>\n",
       "      <th>...</th>\n",
       "      <td>...</td>\n",
       "      <td>...</td>\n",
       "      <td>...</td>\n",
       "    </tr>\n",
       "    <tr>\n",
       "      <th>2395</th>\n",
       "      <td>2019-11-19</td>\n",
       "      <td>8616.028320</td>\n",
       "      <td>8206.145918</td>\n",
       "    </tr>\n",
       "    <tr>\n",
       "      <th>2396</th>\n",
       "      <td>2019-11-20</td>\n",
       "      <td>8563.173828</td>\n",
       "      <td>8027.268243</td>\n",
       "    </tr>\n",
       "    <tr>\n",
       "      <th>2397</th>\n",
       "      <td>2019-11-21</td>\n",
       "      <td>8367.893555</td>\n",
       "      <td>7642.749945</td>\n",
       "    </tr>\n",
       "    <tr>\n",
       "      <th>2398</th>\n",
       "      <td>2019-11-22</td>\n",
       "      <td>8208.305664</td>\n",
       "      <td>7296.577568</td>\n",
       "    </tr>\n",
       "    <tr>\n",
       "      <th>2399</th>\n",
       "      <td>2019-11-23</td>\n",
       "      <td>8247.531250</td>\n",
       "      <td>7397.796815</td>\n",
       "    </tr>\n",
       "  </tbody>\n",
       "</table>\n",
       "<p>427 rows × 3 columns</p>\n",
       "</div>"
      ],
      "text/plain": [
       "           Date  Predictions       Actual\n",
       "1973 2018-09-23  6606.153809  6710.630000\n",
       "1974 2018-09-24  6625.747070  6595.410000\n",
       "1975 2018-09-25  6580.946777  6446.470000\n",
       "1976 2018-09-26  6522.949219  6495.000000\n",
       "1977 2018-09-27  6447.865234  6676.750000\n",
       "...         ...          ...          ...\n",
       "2395 2019-11-19  8616.028320  8206.145918\n",
       "2396 2019-11-20  8563.173828  8027.268243\n",
       "2397 2019-11-21  8367.893555  7642.749945\n",
       "2398 2019-11-22  8208.305664  7296.577568\n",
       "2399 2019-11-23  8247.531250  7397.796815\n",
       "\n",
       "[427 rows x 3 columns]"
      ]
     },
     "execution_count": 23,
     "metadata": {},
     "output_type": "execute_result"
    }
   ],
   "source": [
    "df_forecast"
   ]
  },
  {
   "cell_type": "code",
   "execution_count": 24,
   "metadata": {},
   "outputs": [
    {
     "data": {
      "text/plain": [
       "<matplotlib.legend.Legend at 0x7f089532fac0>"
      ]
     },
     "execution_count": 24,
     "metadata": {},
     "output_type": "execute_result"
    },
    {
     "data": {
      "image/png": "[encoded data removed]",
      "text/plain": [
       "<Figure size 1440x360 with 1 Axes>"
      ]
     },
     "metadata": {
      "needs_background": "light"
     },
     "output_type": "display_data"
    }
   ],
   "source": [
    "plt.rcParams[\"figure.figsize\"] = (20,5)\n",
    "plt.plot(df_forecast['Date'], df_forecast['Actual'], label = \"Avtual\")\n",
    "plt.plot(df_forecast['Date'], df_forecast['Predictions'], label = \"Prediction\")\n",
    "plt.legend()"
   ]
  },
  {
   "cell_type": "code",
   "execution_count": 25,
   "metadata": {},
   "outputs": [],
   "source": [
    "merged_df = df_forecast"
   ]
  },
  {
   "cell_type": "code",
   "execution_count": 26,
   "metadata": {},
   "outputs": [
    {
     "name": "stdout",
     "output_type": "stream",
     "text": [
      "total hits are 221 and total misses are 205\n"
     ]
    },
    {
     "name": "stderr",
     "output_type": "stream",
     "text": [
      "/tmp/ipykernel_918971/1980677806.py:5: SettingWithCopyWarning: \n",
      "A value is trying to be set on a copy of a slice from a DataFrame.\n",
      "Try using .loc[row_indexer,col_indexer] = value instead\n",
      "\n",
      "See the caveats in the documentation: https://pandas.pydata.org/pandas-docs/stable/user_guide/indexing.html#returning-a-view-versus-a-copy\n",
      "  merged_df['Actual_target'] = merged_df[['Actual','Actual_prev']].apply(lambda x: 1 if x.Actual > x.Actual_prev else 0, axis=1)\n",
      "/tmp/ipykernel_918971/1980677806.py:6: SettingWithCopyWarning: \n",
      "A value is trying to be set on a copy of a slice from a DataFrame.\n",
      "Try using .loc[row_indexer,col_indexer] = value instead\n",
      "\n",
      "See the caveats in the documentation: https://pandas.pydata.org/pandas-docs/stable/user_guide/indexing.html#returning-a-view-versus-a-copy\n",
      "  merged_df['Pred_target'] = merged_df[['Predictions','Pred_prev']].apply(lambda x: 1 if x.Predictions > x.Pred_prev else 0, axis=1)\n"
     ]
    }
   ],
   "source": [
    "merged_df[\"Actual_prev\"] = merged_df[\"Actual\"].shift(+1)\n",
    "merged_df[\"Pred_prev\"] = merged_df[\"Predictions\"].shift(+1)\n",
    "merged_df = merged_df.dropna()\n",
    "\n",
    "merged_df['Actual_target'] = merged_df[['Actual','Actual_prev']].apply(lambda x: 1 if x.Actual > x.Actual_prev else 0, axis=1)\n",
    "merged_df['Pred_target'] = merged_df[['Predictions','Pred_prev']].apply(lambda x: 1 if x.Predictions > x.Pred_prev else 0, axis=1)\n",
    "\n",
    "act = list(merged_df[\"Actual_target\"])\n",
    "pred = list(merged_df[\"Pred_target\"])\n",
    "\n",
    "hit = 0\n",
    "miss = 0\n",
    "for i in range(len(act)):\n",
    "    if act[i] == pred[i]:\n",
    "        hit+=1\n",
    "    else:\n",
    "        miss+=1\n",
    "print(f\"total hits are {hit} and total misses are {miss}\")"
   ]
  }
 ],
 "metadata": {
  "interpreter": {
   "hash": "79b4d08203c1a9e3c21d275df1cd381e28813bd86e909f4da489796a89237e93"
  },
  "kernelspec": {
   "display_name": "Python 3.9.7 64-bit ('tf-gpu': conda)",
   "language": "python",
   "name": "python3"
  },
  "language_info": {
   "codemirror_mode": {
    "name": "ipython",
    "version": 3
   },
   "file_extension": ".py",
   "mimetype": "text/x-python",
   "name": "python",
   "nbconvert_exporter": "python",
   "pygments_lexer": "ipython3",
   "version": "3.9.7"
  },
  "orig_nbformat": 4
 },
 "nbformat": 4,
 "nbformat_minor": 2
}
