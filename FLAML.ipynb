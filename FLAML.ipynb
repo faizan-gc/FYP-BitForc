{
 "cells": [
  {
   "cell_type": "code",
   "execution_count": 61,
   "metadata": {},
   "outputs": [],
   "source": [
    "import pandas as pd\n",
    "import numpy as np\n",
    "import os\n",
    "import getpass\n",
    "import re\n",
    "import nltk\n",
    "import tqdm\n",
    "from nltk.corpus import stopwords\n",
    "from nltk.stem.snowball import SnowballStemmer\n",
    "from vaderSentiment.vaderSentiment import SentimentIntensityAnalyzer\n",
    "import swifter\n",
    "import matplotlib as plt\n",
    "import matplotlib.pyplot as plt \n",
    "import os\n",
    "from tqdm import tqdm\n",
    "from sklearn.preprocessing import StandardScaler\n",
    "scaler = StandardScaler()\n",
    "from sklearn.preprocessing import MinMaxScaler\n",
    "from sklearn.model_selection import train_test_split\n",
    "from keras.preprocessing.sequence import TimeseriesGenerator\n",
    "from tensorflow.keras.models import Sequential\n",
    "from tensorflow.keras.layers import Dense\n",
    "from tensorflow.keras.layers import LSTM\n",
    "from tensorflow.keras.layers import Dense, Dropout\n",
    "from keras import optimizers\n",
    "import xgboost as xgb\n",
    "from xgboost import plot_importance, plot_tree\n",
    "from sklearn.model_selection import train_test_split, GridSearchCV\n",
    "from flaml import AutoML"
   ]
  },
  {
   "cell_type": "code",
   "execution_count": 62,
   "metadata": {},
   "outputs": [],
   "source": [
    "df = pd.read_csv(\"Merged_Finall.csv\")\n",
    "df = df[df[\"Date\"] > \"2014-01-01\"]\n",
    "df[\"Date\"] = pd.to_datetime(df[\"Date\"])\n",
    "df = df.sort_values(by=\"Date\")"
   ]
  },
  {
   "cell_type": "code",
   "execution_count": 63,
   "metadata": {},
   "outputs": [],
   "source": [
    "df[\"prev_close\"] = df[\"Close\"].shift(+1)\n",
    "df[\"prev2_close\"] = df[\"Close\"].shift(+2)\n",
    "df[\"prev3_close\"] = df[\"Close\"].shift(+3)\n",
    "df[\"prev4_close\"] = df[\"Close\"].shift(+4)\n",
    "df[\"prev5_close\"] = df[\"Close\"].shift(+5)\n",
    "df = df[[\"Date\", \"Open\", \"High\", \"Low\", \"Volume\", \"FinalScore\", \"prev_close\", \"prev2_close\", \"prev3_close\", \"prev4_close\", \"prev5_close\", \"Close\"]]\n",
    "df = df.dropna()"
   ]
  },
  {
   "cell_type": "code",
   "execution_count": 64,
   "metadata": {},
   "outputs": [
    {
     "data": {
      "text/html": [
       "<div>\n",
       "<style scoped>\n",
       "    .dataframe tbody tr th:only-of-type {\n",
       "        vertical-align: middle;\n",
       "    }\n",
       "\n",
       "    .dataframe tbody tr th {\n",
       "        vertical-align: top;\n",
       "    }\n",
       "\n",
       "    .dataframe thead th {\n",
       "        text-align: right;\n",
       "    }\n",
       "</style>\n",
       "<table border=\"1\" class=\"dataframe\">\n",
       "  <thead>\n",
       "    <tr style=\"text-align: right;\">\n",
       "      <th></th>\n",
       "      <th>Date</th>\n",
       "      <th>Open</th>\n",
       "      <th>High</th>\n",
       "      <th>Low</th>\n",
       "      <th>Volume</th>\n",
       "      <th>FinalScore</th>\n",
       "      <th>prev_close</th>\n",
       "      <th>prev2_close</th>\n",
       "      <th>prev3_close</th>\n",
       "      <th>prev4_close</th>\n",
       "      <th>prev5_close</th>\n",
       "      <th>Close</th>\n",
       "    </tr>\n",
       "  </thead>\n",
       "  <tbody>\n",
       "    <tr>\n",
       "      <th>253</th>\n",
       "      <td>2014-01-07</td>\n",
       "      <td>946.489990</td>\n",
       "      <td>965.739990</td>\n",
       "      <td>802.000000</td>\n",
       "      <td>8.131170e+07</td>\n",
       "      <td>0.137522</td>\n",
       "      <td>953.289978</td>\n",
       "      <td>933.530029</td>\n",
       "      <td>859.510010</td>\n",
       "      <td>818.719971</td>\n",
       "      <td>802.390015</td>\n",
       "      <td>802.000000</td>\n",
       "    </tr>\n",
       "    <tr>\n",
       "      <th>254</th>\n",
       "      <td>2014-01-08</td>\n",
       "      <td>795.989990</td>\n",
       "      <td>870.679993</td>\n",
       "      <td>776.179993</td>\n",
       "      <td>7.417560e+07</td>\n",
       "      <td>0.118022</td>\n",
       "      <td>802.000000</td>\n",
       "      <td>953.289978</td>\n",
       "      <td>933.530029</td>\n",
       "      <td>859.510010</td>\n",
       "      <td>818.719971</td>\n",
       "      <td>842.719971</td>\n",
       "    </tr>\n",
       "    <tr>\n",
       "      <th>255</th>\n",
       "      <td>2014-01-09</td>\n",
       "      <td>841.469971</td>\n",
       "      <td>864.359985</td>\n",
       "      <td>804.140015</td>\n",
       "      <td>5.999860e+07</td>\n",
       "      <td>0.152745</td>\n",
       "      <td>842.719971</td>\n",
       "      <td>802.000000</td>\n",
       "      <td>953.289978</td>\n",
       "      <td>933.530029</td>\n",
       "      <td>859.510010</td>\n",
       "      <td>846.859985</td>\n",
       "    </tr>\n",
       "    <tr>\n",
       "      <th>256</th>\n",
       "      <td>2014-01-10</td>\n",
       "      <td>846.690002</td>\n",
       "      <td>871.190002</td>\n",
       "      <td>822.599976</td>\n",
       "      <td>3.187680e+07</td>\n",
       "      <td>0.163590</td>\n",
       "      <td>846.859985</td>\n",
       "      <td>842.719971</td>\n",
       "      <td>802.000000</td>\n",
       "      <td>953.289978</td>\n",
       "      <td>933.530029</td>\n",
       "      <td>868.479980</td>\n",
       "    </tr>\n",
       "    <tr>\n",
       "      <th>257</th>\n",
       "      <td>2014-01-11</td>\n",
       "      <td>867.320007</td>\n",
       "      <td>921.479980</td>\n",
       "      <td>861.719971</td>\n",
       "      <td>4.475420e+07</td>\n",
       "      <td>0.161135</td>\n",
       "      <td>868.479980</td>\n",
       "      <td>846.859985</td>\n",
       "      <td>842.719971</td>\n",
       "      <td>802.000000</td>\n",
       "      <td>953.289978</td>\n",
       "      <td>913.950012</td>\n",
       "    </tr>\n",
       "    <tr>\n",
       "      <th>...</th>\n",
       "      <td>...</td>\n",
       "      <td>...</td>\n",
       "      <td>...</td>\n",
       "      <td>...</td>\n",
       "      <td>...</td>\n",
       "      <td>...</td>\n",
       "      <td>...</td>\n",
       "      <td>...</td>\n",
       "      <td>...</td>\n",
       "      <td>...</td>\n",
       "      <td>...</td>\n",
       "      <td>...</td>\n",
       "    </tr>\n",
       "    <tr>\n",
       "      <th>2395</th>\n",
       "      <td>2019-11-19</td>\n",
       "      <td>8305.134291</td>\n",
       "      <td>8408.516128</td>\n",
       "      <td>8099.963369</td>\n",
       "      <td>2.108361e+10</td>\n",
       "      <td>266.234714</td>\n",
       "      <td>8309.285983</td>\n",
       "      <td>8577.975782</td>\n",
       "      <td>8550.760557</td>\n",
       "      <td>8491.992012</td>\n",
       "      <td>8708.095095</td>\n",
       "      <td>8206.145918</td>\n",
       "    </tr>\n",
       "    <tr>\n",
       "      <th>2396</th>\n",
       "      <td>2019-11-20</td>\n",
       "      <td>8203.613180</td>\n",
       "      <td>8237.239874</td>\n",
       "      <td>8010.511901</td>\n",
       "      <td>2.076430e+10</td>\n",
       "      <td>10.221575</td>\n",
       "      <td>8206.145918</td>\n",
       "      <td>8309.285983</td>\n",
       "      <td>8577.975782</td>\n",
       "      <td>8550.760557</td>\n",
       "      <td>8491.992012</td>\n",
       "      <td>8027.268243</td>\n",
       "    </tr>\n",
       "    <tr>\n",
       "      <th>2397</th>\n",
       "      <td>2019-11-21</td>\n",
       "      <td>8023.644687</td>\n",
       "      <td>8110.098131</td>\n",
       "      <td>7597.381608</td>\n",
       "      <td>2.251424e+10</td>\n",
       "      <td>-8503.435071</td>\n",
       "      <td>8027.268243</td>\n",
       "      <td>8206.145918</td>\n",
       "      <td>8309.285983</td>\n",
       "      <td>8577.975782</td>\n",
       "      <td>8550.760557</td>\n",
       "      <td>7642.749945</td>\n",
       "    </tr>\n",
       "    <tr>\n",
       "      <th>2398</th>\n",
       "      <td>2019-11-22</td>\n",
       "      <td>7643.569425</td>\n",
       "      <td>7697.382714</td>\n",
       "      <td>6936.706599</td>\n",
       "      <td>3.424232e+10</td>\n",
       "      <td>15.649639</td>\n",
       "      <td>7642.749945</td>\n",
       "      <td>8027.268243</td>\n",
       "      <td>8206.145918</td>\n",
       "      <td>8309.285983</td>\n",
       "      <td>8577.975782</td>\n",
       "      <td>7296.577568</td>\n",
       "    </tr>\n",
       "    <tr>\n",
       "      <th>2399</th>\n",
       "      <td>2019-11-23</td>\n",
       "      <td>7296.164425</td>\n",
       "      <td>7442.258933</td>\n",
       "      <td>7151.417814</td>\n",
       "      <td>2.100892e+10</td>\n",
       "      <td>-6.518993</td>\n",
       "      <td>7296.577568</td>\n",
       "      <td>7642.749945</td>\n",
       "      <td>8027.268243</td>\n",
       "      <td>8206.145918</td>\n",
       "      <td>8309.285983</td>\n",
       "      <td>7397.796815</td>\n",
       "    </tr>\n",
       "  </tbody>\n",
       "</table>\n",
       "<p>2147 rows × 12 columns</p>\n",
       "</div>"
      ],
      "text/plain": [
       "           Date         Open         High          Low        Volume  \\\n",
       "253  2014-01-07   946.489990   965.739990   802.000000  8.131170e+07   \n",
       "254  2014-01-08   795.989990   870.679993   776.179993  7.417560e+07   \n",
       "255  2014-01-09   841.469971   864.359985   804.140015  5.999860e+07   \n",
       "256  2014-01-10   846.690002   871.190002   822.599976  3.187680e+07   \n",
       "257  2014-01-11   867.320007   921.479980   861.719971  4.475420e+07   \n",
       "...         ...          ...          ...          ...           ...   \n",
       "2395 2019-11-19  8305.134291  8408.516128  8099.963369  2.108361e+10   \n",
       "2396 2019-11-20  8203.613180  8237.239874  8010.511901  2.076430e+10   \n",
       "2397 2019-11-21  8023.644687  8110.098131  7597.381608  2.251424e+10   \n",
       "2398 2019-11-22  7643.569425  7697.382714  6936.706599  3.424232e+10   \n",
       "2399 2019-11-23  7296.164425  7442.258933  7151.417814  2.100892e+10   \n",
       "\n",
       "       FinalScore   prev_close  prev2_close  prev3_close  prev4_close  \\\n",
       "253      0.137522   953.289978   933.530029   859.510010   818.719971   \n",
       "254      0.118022   802.000000   953.289978   933.530029   859.510010   \n",
       "255      0.152745   842.719971   802.000000   953.289978   933.530029   \n",
       "256      0.163590   846.859985   842.719971   802.000000   953.289978   \n",
       "257      0.161135   868.479980   846.859985   842.719971   802.000000   \n",
       "...           ...          ...          ...          ...          ...   \n",
       "2395   266.234714  8309.285983  8577.975782  8550.760557  8491.992012   \n",
       "2396    10.221575  8206.145918  8309.285983  8577.975782  8550.760557   \n",
       "2397 -8503.435071  8027.268243  8206.145918  8309.285983  8577.975782   \n",
       "2398    15.649639  7642.749945  8027.268243  8206.145918  8309.285983   \n",
       "2399    -6.518993  7296.577568  7642.749945  8027.268243  8206.145918   \n",
       "\n",
       "      prev5_close        Close  \n",
       "253    802.390015   802.000000  \n",
       "254    818.719971   842.719971  \n",
       "255    859.510010   846.859985  \n",
       "256    933.530029   868.479980  \n",
       "257    953.289978   913.950012  \n",
       "...           ...          ...  \n",
       "2395  8708.095095  8206.145918  \n",
       "2396  8491.992012  8027.268243  \n",
       "2397  8550.760557  7642.749945  \n",
       "2398  8577.975782  7296.577568  \n",
       "2399  8309.285983  7397.796815  \n",
       "\n",
       "[2147 rows x 12 columns]"
      ]
     },
     "execution_count": 64,
     "metadata": {},
     "output_type": "execute_result"
    }
   ],
   "source": [
    "df"
   ]
  },
  {
   "cell_type": "code",
   "execution_count": 65,
   "metadata": {},
   "outputs": [],
   "source": [
    "X_with_dates = df.iloc[:,:-1] #all columns but not close\n",
    "y = df.iloc[:, -1] #close"
   ]
  },
  {
   "cell_type": "code",
   "execution_count": 66,
   "metadata": {},
   "outputs": [],
   "source": [
    "X_train_with_dates, X_test_with_dates, y_train, y_test = train_test_split(X_with_dates, y, test_size=0.3, random_state=42, shuffle=False)\n",
    "\n",
    "X_train_with_dates = X_train_with_dates.reset_index(drop=True)\n",
    "X_test_with_dates = X_test_with_dates.reset_index(drop=True)"
   ]
  },
  {
   "cell_type": "code",
   "execution_count": 67,
   "metadata": {},
   "outputs": [],
   "source": [
    "X_train = X_train_with_dates[[\"Open\", \"High\", \"Low\", \"Volume\", \"prev_close\", \"prev2_close\", \"prev3_close\", \"prev4_close\", \"prev5_close\"]]\n",
    "X_test = X_test_with_dates[[\"Open\", \"High\", \"Low\", \"Volume\", \"prev_close\", \"prev2_close\", \"prev3_close\", \"prev4_close\", \"prev5_close\"]]\n",
    "\n",
    "y_train = np.array(y_train)\n",
    "y_test = np.array(y_test)"
   ]
  },
  {
   "cell_type": "code",
   "execution_count": 68,
   "metadata": {},
   "outputs": [],
   "source": [
    "scaler = StandardScaler().fit(X_train)\n",
    "\n",
    "X_train_sc = scaler.transform(X_train)\n",
    "\n",
    "X_test_sc = scaler.transform(X_test)"
   ]
  },
  {
   "cell_type": "code",
   "execution_count": 69,
   "metadata": {},
   "outputs": [],
   "source": [
    "X_train_ds = pd.DataFrame(X_train_sc)\n",
    "X_train_ds[\"Date\"] = X_train_with_dates[\"Date\"]\n",
    "\n",
    "\n",
    "X_test_ds = pd.DataFrame(X_test_sc)\n",
    "X_test_ds[\"Date\"] = X_test_with_dates[\"Date\"]"
   ]
  },
  {
   "cell_type": "code",
   "execution_count": 70,
   "metadata": {},
   "outputs": [],
   "source": [
    "X_train_ds = X_train_ds[[\"Date\", 0, 1, 2, 3, 4, 5, 6, 7, 8]]\n",
    "X_test_ds = X_test_ds[[\"Date\", 0, 1, 2, 3, 4, 5, 6, 7, 8]]"
   ]
  },
  {
   "cell_type": "code",
   "execution_count": 71,
   "metadata": {},
   "outputs": [],
   "source": [
    "automl = AutoML()"
   ]
  },
  {
   "cell_type": "code",
   "execution_count": 72,
   "metadata": {},
   "outputs": [
    {
     "name": "stderr",
     "output_type": "stream",
     "text": [
      "[flaml.automl: 12-14 14:31:34] {1943} INFO - task = ts_forecast\n",
      "[flaml.automl: 12-14 14:31:34] {1945} INFO - Data split method: time\n",
      "[flaml.automl: 12-14 14:31:34] {1949} INFO - Evaluation method: cv\n",
      "[flaml.automl: 12-14 14:31:34] {2019} INFO - Minimizing error metric: mape\n",
      "[flaml.automl: 12-14 14:31:34] {2071} INFO - List of ML learners in AutoML Run: ['arima', 'sarimax']\n",
      "[flaml.automl: 12-14 14:31:34] {2311} INFO - iteration 0, current learner arima\n"
     ]
    },
    {
     "name": "stdout",
     "output_type": "stream",
     "text": [
      "2018-02-12 00:00:00 2018-02-12 00:00:00 (1, 9)\n",
      "2018-02-13 00:00:00 2018-02-13 00:00:00 (1, 9)\n",
      "2018-02-14 00:00:00 2018-02-14 00:00:00 (1, 9)\n",
      "2018-02-15 00:00:00 2018-02-15 00:00:00 (1, 9)\n"
     ]
    },
    {
     "name": "stderr",
     "output_type": "stream",
     "text": [
      "[flaml.automl: 12-14 14:31:37] {2424} INFO - Estimated sufficient time budget=36510s. Estimated necessary time budget=37s.\n",
      "[flaml.automl: 12-14 14:31:37] {2499} INFO -  at 3.7s,\testimator arima's best error=0.0268,\tbest estimator arima's best error=0.0268\n",
      "[flaml.automl: 12-14 14:31:37] {2311} INFO - iteration 1, current learner arima\n"
     ]
    },
    {
     "name": "stdout",
     "output_type": "stream",
     "text": [
      "2018-02-16 00:00:00 2018-02-16 00:00:00 (1, 9)\n",
      "2018-02-12 00:00:00 2018-02-12 00:00:00 (1, 9)\n",
      "2018-02-13 00:00:00 2018-02-13 00:00:00 (1, 9)\n",
      "2018-02-14 00:00:00 2018-02-14 00:00:00 (1, 9)\n",
      "2018-02-15 00:00:00 2018-02-15 00:00:00 (1, 9)\n"
     ]
    },
    {
     "name": "stderr",
     "output_type": "stream",
     "text": [
      "[flaml.automl: 12-14 14:31:44] {2499} INFO -  at 10.4s,\testimator arima's best error=0.0268,\tbest estimator arima's best error=0.0268\n",
      "[flaml.automl: 12-14 14:31:44] {2311} INFO - iteration 2, current learner sarimax\n"
     ]
    },
    {
     "name": "stdout",
     "output_type": "stream",
     "text": [
      "2018-02-16 00:00:00 2018-02-16 00:00:00 (1, 9)\n",
      "2018-02-12 00:00:00 2018-02-12 00:00:00 (1, 9)\n",
      "2018-02-13 00:00:00 2018-02-13 00:00:00 (1, 9)\n",
      "2018-02-14 00:00:00 2018-02-14 00:00:00 (1, 9)\n",
      "2018-02-15 00:00:00 2018-02-15 00:00:00 (1, 9)\n"
     ]
    },
    {
     "name": "stderr",
     "output_type": "stream",
     "text": [
      "[flaml.automl: 12-14 14:31:48] {2499} INFO -  at 13.9s,\testimator sarimax's best error=0.0268,\tbest estimator arima's best error=0.0268\n",
      "[flaml.automl: 12-14 14:31:48] {2311} INFO - iteration 3, current learner sarimax\n"
     ]
    },
    {
     "name": "stdout",
     "output_type": "stream",
     "text": [
      "2018-02-16 00:00:00 2018-02-16 00:00:00 (1, 9)\n",
      "2018-02-12 00:00:00 2018-02-12 00:00:00 (1, 9)\n",
      "2018-02-13 00:00:00 2018-02-13 00:00:00 (1, 9)\n",
      "2018-02-14 00:00:00 2018-02-14 00:00:00 (1, 9)\n",
      "2018-02-15 00:00:00 2018-02-15 00:00:00 (1, 9)\n"
     ]
    },
    {
     "name": "stderr",
     "output_type": "stream",
     "text": [
      "[flaml.automl: 12-14 14:31:55] {2499} INFO -  at 21.4s,\testimator sarimax's best error=0.0268,\tbest estimator arima's best error=0.0268\n",
      "[flaml.automl: 12-14 14:31:55] {2311} INFO - iteration 4, current learner arima\n"
     ]
    },
    {
     "name": "stdout",
     "output_type": "stream",
     "text": [
      "2018-02-16 00:00:00 2018-02-16 00:00:00 (1, 9)\n",
      "2018-02-12 00:00:00 2018-02-12 00:00:00 (1, 9)\n",
      "2018-02-13 00:00:00 2018-02-13 00:00:00 (1, 9)\n",
      "2018-02-14 00:00:00 2018-02-14 00:00:00 (1, 9)\n",
      "2018-02-15 00:00:00 2018-02-15 00:00:00 (1, 9)\n"
     ]
    },
    {
     "name": "stderr",
     "output_type": "stream",
     "text": [
      "[flaml.automl: 12-14 14:31:59] {2499} INFO -  at 25.4s,\testimator arima's best error=0.0167,\tbest estimator arima's best error=0.0167\n",
      "[flaml.automl: 12-14 14:31:59] {2311} INFO - iteration 5, current learner arima\n"
     ]
    },
    {
     "name": "stdout",
     "output_type": "stream",
     "text": [
      "2018-02-16 00:00:00 2018-02-16 00:00:00 (1, 9)\n",
      "2018-02-12 00:00:00 2018-02-12 00:00:00 (1, 9)\n",
      "2018-02-13 00:00:00 2018-02-13 00:00:00 (1, 9)\n",
      "2018-02-14 00:00:00 2018-02-14 00:00:00 (1, 9)\n",
      "2018-02-15 00:00:00 2018-02-15 00:00:00 (1, 9)\n"
     ]
    },
    {
     "name": "stderr",
     "output_type": "stream",
     "text": [
      "[flaml.automl: 12-14 14:32:03] {2499} INFO -  at 29.3s,\testimator arima's best error=0.0167,\tbest estimator arima's best error=0.0167\n",
      "[flaml.automl: 12-14 14:32:03] {2311} INFO - iteration 6, current learner arima\n"
     ]
    },
    {
     "name": "stdout",
     "output_type": "stream",
     "text": [
      "2018-02-16 00:00:00 2018-02-16 00:00:00 (1, 9)\n",
      "2018-02-12 00:00:00 2018-02-12 00:00:00 (1, 9)\n",
      "2018-02-13 00:00:00 2018-02-13 00:00:00 (1, 9)\n",
      "2018-02-14 00:00:00 2018-02-14 00:00:00 (1, 9)\n",
      "2018-02-15 00:00:00 2018-02-15 00:00:00 (1, 9)\n"
     ]
    },
    {
     "name": "stderr",
     "output_type": "stream",
     "text": [
      "[flaml.automl: 12-14 14:32:08] {2499} INFO -  at 34.4s,\testimator arima's best error=0.0103,\tbest estimator arima's best error=0.0103\n",
      "[flaml.automl: 12-14 14:32:08] {2311} INFO - iteration 7, current learner arima\n"
     ]
    },
    {
     "name": "stdout",
     "output_type": "stream",
     "text": [
      "2018-02-16 00:00:00 2018-02-16 00:00:00 (1, 9)\n",
      "2018-02-12 00:00:00 2018-02-12 00:00:00 (1, 9)\n",
      "2018-02-13 00:00:00 2018-02-13 00:00:00 (1, 9)\n",
      "2018-02-14 00:00:00 2018-02-14 00:00:00 (1, 9)\n",
      "2018-02-15 00:00:00 2018-02-15 00:00:00 (1, 9)\n"
     ]
    },
    {
     "name": "stderr",
     "output_type": "stream",
     "text": [
      "[flaml.automl: 12-14 14:32:14] {2499} INFO -  at 40.3s,\testimator arima's best error=0.0103,\tbest estimator arima's best error=0.0103\n",
      "[flaml.automl: 12-14 14:32:14] {2311} INFO - iteration 8, current learner arima\n"
     ]
    },
    {
     "name": "stdout",
     "output_type": "stream",
     "text": [
      "2018-02-16 00:00:00 2018-02-16 00:00:00 (1, 9)\n",
      "2018-02-12 00:00:00 2018-02-12 00:00:00 (1, 9)\n",
      "2018-02-13 00:00:00 2018-02-13 00:00:00 (1, 9)\n",
      "2018-02-14 00:00:00 2018-02-14 00:00:00 (1, 9)\n",
      "2018-02-15 00:00:00 2018-02-15 00:00:00 (1, 9)\n"
     ]
    },
    {
     "name": "stderr",
     "output_type": "stream",
     "text": [
      "[flaml.automl: 12-14 14:32:18] {2499} INFO -  at 44.4s,\testimator arima's best error=0.0103,\tbest estimator arima's best error=0.0103\n",
      "[flaml.automl: 12-14 14:32:18] {2311} INFO - iteration 9, current learner arima\n"
     ]
    },
    {
     "name": "stdout",
     "output_type": "stream",
     "text": [
      "2018-02-16 00:00:00 2018-02-16 00:00:00 (1, 9)\n",
      "2018-02-12 00:00:00 2018-02-12 00:00:00 (1, 9)\n",
      "2018-02-13 00:00:00 2018-02-13 00:00:00 (1, 9)\n",
      "2018-02-14 00:00:00 2018-02-14 00:00:00 (1, 9)\n",
      "2018-02-15 00:00:00 2018-02-15 00:00:00 (1, 9)\n"
     ]
    },
    {
     "name": "stderr",
     "output_type": "stream",
     "text": [
      "[flaml.automl: 12-14 14:32:23] {2499} INFO -  at 49.6s,\testimator arima's best error=0.0103,\tbest estimator arima's best error=0.0103\n",
      "[flaml.automl: 12-14 14:32:23] {2311} INFO - iteration 10, current learner arima\n"
     ]
    },
    {
     "name": "stdout",
     "output_type": "stream",
     "text": [
      "2018-02-16 00:00:00 2018-02-16 00:00:00 (1, 9)\n",
      "2018-02-12 00:00:00 2018-02-12 00:00:00 (1, 9)\n",
      "2018-02-13 00:00:00 2018-02-13 00:00:00 (1, 9)\n",
      "2018-02-14 00:00:00 2018-02-14 00:00:00 (1, 9)\n",
      "2018-02-15 00:00:00 2018-02-15 00:00:00 (1, 9)\n"
     ]
    },
    {
     "name": "stderr",
     "output_type": "stream",
     "text": [
      "[flaml.automl: 12-14 14:32:28] {2499} INFO -  at 54.2s,\testimator arima's best error=0.0103,\tbest estimator arima's best error=0.0103\n",
      "[flaml.automl: 12-14 14:32:28] {2311} INFO - iteration 11, current learner sarimax\n"
     ]
    },
    {
     "name": "stdout",
     "output_type": "stream",
     "text": [
      "2018-02-16 00:00:00 2018-02-16 00:00:00 (1, 9)\n",
      "2018-02-12 00:00:00 2018-02-12 00:00:00 (1, 9)\n",
      "2018-02-13 00:00:00 2018-02-13 00:00:00 (1, 9)\n",
      "2018-02-14 00:00:00 2018-02-14 00:00:00 (1, 9)\n",
      "2018-02-15 00:00:00 2018-02-15 00:00:00 (1, 9)\n"
     ]
    },
    {
     "name": "stderr",
     "output_type": "stream",
     "text": [
      "[flaml.automl: 12-14 14:32:32] {2499} INFO -  at 58.2s,\testimator sarimax's best error=0.0167,\tbest estimator arima's best error=0.0103\n"
     ]
    },
    {
     "name": "stdout",
     "output_type": "stream",
     "text": [
      "2018-02-16 00:00:00 2018-02-16 00:00:00 (1, 9)\n"
     ]
    },
    {
     "name": "stderr",
     "output_type": "stream",
     "text": [
      "[flaml.automl: 12-14 14:32:33] {2715} INFO - retrain arima for 1.1s\n",
      "[flaml.automl: 12-14 14:32:33] {2722} INFO - retrained model: <statsmodels.tsa.arima.model.ARIMAResultsWrapper object at 0x7fcc01880400>\n",
      "[flaml.automl: 12-14 14:32:33] {2100} INFO - fit succeeded\n",
      "[flaml.automl: 12-14 14:32:33] {2101} INFO - Time taken to find the best model: 34.4445595741272\n"
     ]
    }
   ],
   "source": [
    "automl.fit(X_train=X_train_ds,  # a single column of timestamp\n",
    "           y_train=y_train,  # value for each timestamp\n",
    "           period=1,  # time horizon to forecast, e.g., 12 months\n",
    "           task='ts_forecast', time_budget=60,  # time budget in seconds\n",
    "           log_file_name=\"ts_forecast.log\",\n",
    "          )"
   ]
  },
  {
   "cell_type": "code",
   "execution_count": 73,
   "metadata": {},
   "outputs": [
    {
     "name": "stdout",
     "output_type": "stream",
     "text": [
      "2018-02-17 00:00:00 2019-11-23 00:00:00 (645, 9)\n"
     ]
    }
   ],
   "source": [
    "pred = automl.predict(X_test_ds)"
   ]
  },
  {
   "cell_type": "code",
   "execution_count": 74,
   "metadata": {},
   "outputs": [],
   "source": [
    "a = list(pred)"
   ]
  },
  {
   "cell_type": "code",
   "execution_count": 75,
   "metadata": {},
   "outputs": [],
   "source": [
    "X_test_ds[\"actual\"] = y_test\n",
    "X_test_ds[\"prediction\"] = a"
   ]
  },
  {
   "cell_type": "code",
   "execution_count": 82,
   "metadata": {},
   "outputs": [
    {
     "data": {
      "text/plain": [
       "<matplotlib.legend.Legend at 0x7fcc007f1d30>"
      ]
     },
     "execution_count": 82,
     "metadata": {},
     "output_type": "execute_result"
    },
    {
     "data": {
      "image/png": "[encoded data removed]",
      "text/plain": [
       "<Figure size 1440x360 with 1 Axes>"
      ]
     },
     "metadata": {
      "needs_background": "light"
     },
     "output_type": "display_data"
    }
   ],
   "source": [
    "plt.rcParams[\"figure.figsize\"] = (20,5)\n",
    "plt.plot(X_test_ds[\"Date\"], X_test_ds[\"actual\"], label = \"Actual\")\n",
    "plt.plot(X_test_ds[\"Date\"], X_test_ds[\"prediction\"], label = \"Prediction\")\n",
    "plt.legend()"
   ]
  },
  {
   "cell_type": "code",
   "execution_count": 95,
   "metadata": {},
   "outputs": [],
   "source": [
    "X_test_ds_ = X_test_ds[X_test_ds[\"Date\"] >= \"2018-09-20\"]"
   ]
  },
  {
   "cell_type": "code",
   "execution_count": 97,
   "metadata": {},
   "outputs": [],
   "source": [
    "merged_df = X_test_ds_[[\"Date\", \"actual\", \"prediction\"]]\n",
    "\n",
    "merged_df[\"Actual_prev\"] = merged_df[\"actual\"].shift(+1)\n",
    "merged_df[\"Pred_prev\"] = merged_df[\"prediction\"].shift(+1)\n",
    "merged_df = merged_df.dropna()"
   ]
  },
  {
   "cell_type": "code",
   "execution_count": 98,
   "metadata": {},
   "outputs": [],
   "source": [
    "merged_df['Actual_target'] = merged_df[['actual','Actual_prev']].apply(lambda x: 1 if x.actual > x.Actual_prev else 0, axis=1)\n",
    "merged_df['Pred_target'] = merged_df[['prediction','Pred_prev']].apply(lambda x: 1 if x.prediction > x.Pred_prev else 0, axis=1)"
   ]
  },
  {
   "cell_type": "code",
   "execution_count": 99,
   "metadata": {},
   "outputs": [],
   "source": [
    "act = list(merged_df[\"Actual_target\"])\n",
    "pred = list(merged_df[\"Pred_target\"])"
   ]
  },
  {
   "cell_type": "code",
   "execution_count": 100,
   "metadata": {},
   "outputs": [
    {
     "name": "stdout",
     "output_type": "stream",
     "text": [
      "total hits are 326 and total misses are 103\n"
     ]
    }
   ],
   "source": [
    "hit = 0\n",
    "miss = 0\n",
    "for i in range(len(act)):\n",
    "    if act[i] == pred[i]:\n",
    "        hit+=1\n",
    "    else:\n",
    "        miss+=1\n",
    "print(f\"total hits are {hit} and total misses are {miss}\")"
   ]
  },
  {
   "cell_type": "code",
   "execution_count": 101,
   "metadata": {},
   "outputs": [
    {
     "data": {
      "text/plain": [
       "<matplotlib.legend.Legend at 0x7fcc005ddf70>"
      ]
     },
     "execution_count": 101,
     "metadata": {},
     "output_type": "execute_result"
    },
    {
     "data": {
      "image/png": "[encoded data removed]",
      "text/plain": [
       "<Figure size 1440x360 with 1 Axes>"
      ]
     },
     "metadata": {
      "needs_background": "light"
     },
     "output_type": "display_data"
    }
   ],
   "source": [
    "plt.rcParams[\"figure.figsize\"] = (20,5)\n",
    "plt.plot(merged_df[\"Date\"], merged_df[\"actual\"], label = \"Actual\")\n",
    "plt.plot(merged_df[\"Date\"], merged_df[\"prediction\"], label = \"Prediction\")\n",
    "plt.legend()"
   ]
  },
  {
   "cell_type": "code",
   "execution_count": 93,
   "metadata": {},
   "outputs": [
    {
     "data": {
      "text/html": [
       "<div>\n",
       "<style scoped>\n",
       "    .dataframe tbody tr th:only-of-type {\n",
       "        vertical-align: middle;\n",
       "    }\n",
       "\n",
       "    .dataframe tbody tr th {\n",
       "        vertical-align: top;\n",
       "    }\n",
       "\n",
       "    .dataframe thead th {\n",
       "        text-align: right;\n",
       "    }\n",
       "</style>\n",
       "<table border=\"1\" class=\"dataframe\">\n",
       "  <thead>\n",
       "    <tr style=\"text-align: right;\">\n",
       "      <th></th>\n",
       "      <th>Date</th>\n",
       "      <th>0</th>\n",
       "      <th>1</th>\n",
       "      <th>2</th>\n",
       "      <th>3</th>\n",
       "      <th>4</th>\n",
       "      <th>5</th>\n",
       "      <th>6</th>\n",
       "      <th>7</th>\n",
       "      <th>8</th>\n",
       "    </tr>\n",
       "  </thead>\n",
       "  <tbody>\n",
       "    <tr>\n",
       "      <th>0</th>\n",
       "      <td>2014-01-07</td>\n",
       "      <td>-0.229318</td>\n",
       "      <td>-0.232172</td>\n",
       "      <td>-0.269612</td>\n",
       "      <td>-0.302633</td>\n",
       "      <td>-0.227094</td>\n",
       "      <td>-0.232048</td>\n",
       "      <td>-0.254598</td>\n",
       "      <td>-0.266546</td>\n",
       "      <td>-0.270576</td>\n",
       "    </tr>\n",
       "    <tr>\n",
       "      <th>1</th>\n",
       "      <td>2014-01-08</td>\n",
       "      <td>-0.277716</td>\n",
       "      <td>-0.261332</td>\n",
       "      <td>-0.278436</td>\n",
       "      <td>-0.305031</td>\n",
       "      <td>-0.275754</td>\n",
       "      <td>-0.225677</td>\n",
       "      <td>-0.230681</td>\n",
       "      <td>-0.253344</td>\n",
       "      <td>-0.265281</td>\n",
       "    </tr>\n",
       "    <tr>\n",
       "      <th>2</th>\n",
       "      <td>2014-01-09</td>\n",
       "      <td>-0.263091</td>\n",
       "      <td>-0.263271</td>\n",
       "      <td>-0.268881</td>\n",
       "      <td>-0.309797</td>\n",
       "      <td>-0.262657</td>\n",
       "      <td>-0.274458</td>\n",
       "      <td>-0.224296</td>\n",
       "      <td>-0.229388</td>\n",
       "      <td>-0.252055</td>\n",
       "    </tr>\n",
       "    <tr>\n",
       "      <th>3</th>\n",
       "      <td>2014-01-10</td>\n",
       "      <td>-0.261412</td>\n",
       "      <td>-0.261176</td>\n",
       "      <td>-0.262572</td>\n",
       "      <td>-0.319250</td>\n",
       "      <td>-0.261326</td>\n",
       "      <td>-0.261328</td>\n",
       "      <td>-0.273180</td>\n",
       "      <td>-0.222992</td>\n",
       "      <td>-0.228054</td>\n",
       "    </tr>\n",
       "    <tr>\n",
       "      <th>4</th>\n",
       "      <td>2014-01-11</td>\n",
       "      <td>-0.254778</td>\n",
       "      <td>-0.245749</td>\n",
       "      <td>-0.249204</td>\n",
       "      <td>-0.314921</td>\n",
       "      <td>-0.254372</td>\n",
       "      <td>-0.259993</td>\n",
       "      <td>-0.260023</td>\n",
       "      <td>-0.271958</td>\n",
       "      <td>-0.221647</td>\n",
       "    </tr>\n",
       "    <tr>\n",
       "      <th>...</th>\n",
       "      <td>...</td>\n",
       "      <td>...</td>\n",
       "      <td>...</td>\n",
       "      <td>...</td>\n",
       "      <td>...</td>\n",
       "      <td>...</td>\n",
       "      <td>...</td>\n",
       "      <td>...</td>\n",
       "      <td>...</td>\n",
       "      <td>...</td>\n",
       "    </tr>\n",
       "    <tr>\n",
       "      <th>1497</th>\n",
       "      <td>2018-02-12</td>\n",
       "      <td>2.084416</td>\n",
       "      <td>2.228098</td>\n",
       "      <td>2.238556</td>\n",
       "      <td>1.773060</td>\n",
       "      <td>2.081174</td>\n",
       "      <td>2.246943</td>\n",
       "      <td>2.290736</td>\n",
       "      <td>2.143651</td>\n",
       "      <td>1.940424</td>\n",
       "    </tr>\n",
       "    <tr>\n",
       "      <th>1498</th>\n",
       "      <td>2018-02-13</td>\n",
       "      <td>2.336948</td>\n",
       "      <td>2.219677</td>\n",
       "      <td>2.345855</td>\n",
       "      <td>1.584917</td>\n",
       "      <td>2.337388</td>\n",
       "      <td>2.088328</td>\n",
       "      <td>2.253552</td>\n",
       "      <td>2.296217</td>\n",
       "      <td>2.149332</td>\n",
       "    </tr>\n",
       "    <tr>\n",
       "      <th>1499</th>\n",
       "      <td>2018-02-14</td>\n",
       "      <td>2.231856</td>\n",
       "      <td>2.391484</td>\n",
       "      <td>2.395240</td>\n",
       "      <td>2.328823</td>\n",
       "      <td>2.231808</td>\n",
       "      <td>2.345179</td>\n",
       "      <td>2.094602</td>\n",
       "      <td>2.258971</td>\n",
       "      <td>2.302178</td>\n",
       "    </tr>\n",
       "    <tr>\n",
       "      <th>1500</th>\n",
       "      <td>2018-02-15</td>\n",
       "      <td>2.517546</td>\n",
       "      <td>2.611204</td>\n",
       "      <td>2.667148</td>\n",
       "      <td>2.716296</td>\n",
       "      <td>2.520096</td>\n",
       "      <td>2.239337</td>\n",
       "      <td>2.351996</td>\n",
       "      <td>2.099757</td>\n",
       "      <td>2.264864</td>\n",
       "    </tr>\n",
       "    <tr>\n",
       "      <th>1501</th>\n",
       "      <td>2018-02-16</td>\n",
       "      <td>2.725729</td>\n",
       "      <td>2.638598</td>\n",
       "      <td>2.813836</td>\n",
       "      <td>2.122549</td>\n",
       "      <td>2.736160</td>\n",
       "      <td>2.528341</td>\n",
       "      <td>2.245930</td>\n",
       "      <td>2.357578</td>\n",
       "      <td>2.105358</td>\n",
       "    </tr>\n",
       "  </tbody>\n",
       "</table>\n",
       "<p>1502 rows × 10 columns</p>\n",
       "</div>"
      ],
      "text/plain": [
       "           Date         0         1         2         3         4         5  \\\n",
       "0    2014-01-07 -0.229318 -0.232172 -0.269612 -0.302633 -0.227094 -0.232048   \n",
       "1    2014-01-08 -0.277716 -0.261332 -0.278436 -0.305031 -0.275754 -0.225677   \n",
       "2    2014-01-09 -0.263091 -0.263271 -0.268881 -0.309797 -0.262657 -0.274458   \n",
       "3    2014-01-10 -0.261412 -0.261176 -0.262572 -0.319250 -0.261326 -0.261328   \n",
       "4    2014-01-11 -0.254778 -0.245749 -0.249204 -0.314921 -0.254372 -0.259993   \n",
       "...         ...       ...       ...       ...       ...       ...       ...   \n",
       "1497 2018-02-12  2.084416  2.228098  2.238556  1.773060  2.081174  2.246943   \n",
       "1498 2018-02-13  2.336948  2.219677  2.345855  1.584917  2.337388  2.088328   \n",
       "1499 2018-02-14  2.231856  2.391484  2.395240  2.328823  2.231808  2.345179   \n",
       "1500 2018-02-15  2.517546  2.611204  2.667148  2.716296  2.520096  2.239337   \n",
       "1501 2018-02-16  2.725729  2.638598  2.813836  2.122549  2.736160  2.528341   \n",
       "\n",
       "             6         7         8  \n",
       "0    -0.254598 -0.266546 -0.270576  \n",
       "1    -0.230681 -0.253344 -0.265281  \n",
       "2    -0.224296 -0.229388 -0.252055  \n",
       "3    -0.273180 -0.222992 -0.228054  \n",
       "4    -0.260023 -0.271958 -0.221647  \n",
       "...        ...       ...       ...  \n",
       "1497  2.290736  2.143651  1.940424  \n",
       "1498  2.253552  2.296217  2.149332  \n",
       "1499  2.094602  2.258971  2.302178  \n",
       "1500  2.351996  2.099757  2.264864  \n",
       "1501  2.245930  2.357578  2.105358  \n",
       "\n",
       "[1502 rows x 10 columns]"
      ]
     },
     "execution_count": 93,
     "metadata": {},
     "output_type": "execute_result"
    }
   ],
   "source": [
    "X_train_ds"
   ]
  },
  {
   "cell_type": "code",
   "execution_count": 94,
   "metadata": {},
   "outputs": [
    {
     "data": {
      "text/html": [
       "<div>\n",
       "<style scoped>\n",
       "    .dataframe tbody tr th:only-of-type {\n",
       "        vertical-align: middle;\n",
       "    }\n",
       "\n",
       "    .dataframe tbody tr th {\n",
       "        vertical-align: top;\n",
       "    }\n",
       "\n",
       "    .dataframe thead th {\n",
       "        text-align: right;\n",
       "    }\n",
       "</style>\n",
       "<table border=\"1\" class=\"dataframe\">\n",
       "  <thead>\n",
       "    <tr style=\"text-align: right;\">\n",
       "      <th></th>\n",
       "      <th>Date</th>\n",
       "      <th>0</th>\n",
       "      <th>1</th>\n",
       "      <th>2</th>\n",
       "      <th>3</th>\n",
       "      <th>4</th>\n",
       "      <th>5</th>\n",
       "      <th>6</th>\n",
       "      <th>7</th>\n",
       "      <th>8</th>\n",
       "      <th>actual</th>\n",
       "      <th>prediction</th>\n",
       "    </tr>\n",
       "  </thead>\n",
       "  <tbody>\n",
       "    <tr>\n",
       "      <th>0</th>\n",
       "      <td>2018-02-17</td>\n",
       "      <td>2.748818</td>\n",
       "      <td>2.888730</td>\n",
       "      <td>2.924758</td>\n",
       "      <td>2.581283</td>\n",
       "      <td>2.757871</td>\n",
       "      <td>2.744942</td>\n",
       "      <td>2.535545</td>\n",
       "      <td>2.251336</td>\n",
       "      <td>2.363652</td>\n",
       "      <td>11112.700195</td>\n",
       "      <td>10971.301945</td>\n",
       "    </tr>\n",
       "    <tr>\n",
       "      <th>1</th>\n",
       "      <td>2018-02-18</td>\n",
       "      <td>3.043352</td>\n",
       "      <td>2.953242</td>\n",
       "      <td>2.985109</td>\n",
       "      <td>2.609225</td>\n",
       "      <td>3.040523</td>\n",
       "      <td>2.766707</td>\n",
       "      <td>2.752604</td>\n",
       "      <td>2.541432</td>\n",
       "      <td>2.257215</td>\n",
       "      <td>10551.799805</td>\n",
       "      <td>10884.493640</td>\n",
       "    </tr>\n",
       "    <tr>\n",
       "      <th>2</th>\n",
       "      <td>2018-02-19</td>\n",
       "      <td>2.859795</td>\n",
       "      <td>2.929928</td>\n",
       "      <td>3.049082</td>\n",
       "      <td>2.242190</td>\n",
       "      <td>2.860118</td>\n",
       "      <td>3.050062</td>\n",
       "      <td>2.774415</td>\n",
       "      <td>2.758852</td>\n",
       "      <td>2.547843</td>\n",
       "      <td>11225.299805</td>\n",
       "      <td>11104.722396</td>\n",
       "    </tr>\n",
       "    <tr>\n",
       "      <th>3</th>\n",
       "      <td>2018-02-20</td>\n",
       "      <td>3.078210</td>\n",
       "      <td>3.139966</td>\n",
       "      <td>3.294656</td>\n",
       "      <td>3.006718</td>\n",
       "      <td>3.076739</td>\n",
       "      <td>2.869208</td>\n",
       "      <td>3.058369</td>\n",
       "      <td>2.780699</td>\n",
       "      <td>2.765661</td>\n",
       "      <td>11403.700195</td>\n",
       "      <td>11837.337103</td>\n",
       "    </tr>\n",
       "    <tr>\n",
       "      <th>4</th>\n",
       "      <td>2018-02-21</td>\n",
       "      <td>3.123360</td>\n",
       "      <td>2.974316</td>\n",
       "      <td>3.037429</td>\n",
       "      <td>2.831523</td>\n",
       "      <td>3.134119</td>\n",
       "      <td>3.086367</td>\n",
       "      <td>2.877133</td>\n",
       "      <td>3.065125</td>\n",
       "      <td>2.787548</td>\n",
       "      <td>10690.400391</td>\n",
       "      <td>10883.179012</td>\n",
       "    </tr>\n",
       "    <tr>\n",
       "      <th>...</th>\n",
       "      <td>...</td>\n",
       "      <td>...</td>\n",
       "      <td>...</td>\n",
       "      <td>...</td>\n",
       "      <td>...</td>\n",
       "      <td>...</td>\n",
       "      <td>...</td>\n",
       "      <td>...</td>\n",
       "      <td>...</td>\n",
       "      <td>...</td>\n",
       "      <td>...</td>\n",
       "      <td>...</td>\n",
       "    </tr>\n",
       "    <tr>\n",
       "      <th>640</th>\n",
       "      <td>2019-11-19</td>\n",
       "      <td>2.137059</td>\n",
       "      <td>2.050974</td>\n",
       "      <td>2.224385</td>\n",
       "      <td>6.757030</td>\n",
       "      <td>2.138848</td>\n",
       "      <td>2.232780</td>\n",
       "      <td>2.230566</td>\n",
       "      <td>2.216926</td>\n",
       "      <td>2.292812</td>\n",
       "      <td>8206.145918</td>\n",
       "      <td>8840.954732</td>\n",
       "    </tr>\n",
       "    <tr>\n",
       "      <th>641</th>\n",
       "      <td>2019-11-20</td>\n",
       "      <td>2.104412</td>\n",
       "      <td>1.998433</td>\n",
       "      <td>2.193816</td>\n",
       "      <td>6.649697</td>\n",
       "      <td>2.105675</td>\n",
       "      <td>2.146146</td>\n",
       "      <td>2.239360</td>\n",
       "      <td>2.235947</td>\n",
       "      <td>2.222742</td>\n",
       "      <td>8027.268243</td>\n",
       "      <td>8688.107136</td>\n",
       "    </tr>\n",
       "    <tr>\n",
       "      <th>642</th>\n",
       "      <td>2019-11-21</td>\n",
       "      <td>2.046539</td>\n",
       "      <td>1.959431</td>\n",
       "      <td>2.052634</td>\n",
       "      <td>7.237918</td>\n",
       "      <td>2.048142</td>\n",
       "      <td>2.112890</td>\n",
       "      <td>2.152542</td>\n",
       "      <td>2.244755</td>\n",
       "      <td>2.241797</td>\n",
       "      <td>7642.749945</td>\n",
       "      <td>8461.453500</td>\n",
       "    </tr>\n",
       "    <tr>\n",
       "      <th>643</th>\n",
       "      <td>2019-11-22</td>\n",
       "      <td>1.924315</td>\n",
       "      <td>1.832826</td>\n",
       "      <td>1.826855</td>\n",
       "      <td>11.180164</td>\n",
       "      <td>1.924467</td>\n",
       "      <td>2.055214</td>\n",
       "      <td>2.119215</td>\n",
       "      <td>2.157793</td>\n",
       "      <td>2.250622</td>\n",
       "      <td>7296.577568</td>\n",
       "      <td>8220.887187</td>\n",
       "    </tr>\n",
       "    <tr>\n",
       "      <th>644</th>\n",
       "      <td>2019-11-23</td>\n",
       "      <td>1.812597</td>\n",
       "      <td>1.754565</td>\n",
       "      <td>1.900231</td>\n",
       "      <td>6.731924</td>\n",
       "      <td>1.813126</td>\n",
       "      <td>1.931232</td>\n",
       "      <td>2.061417</td>\n",
       "      <td>2.124411</td>\n",
       "      <td>2.163500</td>\n",
       "      <td>7397.796815</td>\n",
       "      <td>7964.147610</td>\n",
       "    </tr>\n",
       "  </tbody>\n",
       "</table>\n",
       "<p>645 rows × 12 columns</p>\n",
       "</div>"
      ],
      "text/plain": [
       "          Date         0         1         2          3         4         5  \\\n",
       "0   2018-02-17  2.748818  2.888730  2.924758   2.581283  2.757871  2.744942   \n",
       "1   2018-02-18  3.043352  2.953242  2.985109   2.609225  3.040523  2.766707   \n",
       "2   2018-02-19  2.859795  2.929928  3.049082   2.242190  2.860118  3.050062   \n",
       "3   2018-02-20  3.078210  3.139966  3.294656   3.006718  3.076739  2.869208   \n",
       "4   2018-02-21  3.123360  2.974316  3.037429   2.831523  3.134119  3.086367   \n",
       "..         ...       ...       ...       ...        ...       ...       ...   \n",
       "640 2019-11-19  2.137059  2.050974  2.224385   6.757030  2.138848  2.232780   \n",
       "641 2019-11-20  2.104412  1.998433  2.193816   6.649697  2.105675  2.146146   \n",
       "642 2019-11-21  2.046539  1.959431  2.052634   7.237918  2.048142  2.112890   \n",
       "643 2019-11-22  1.924315  1.832826  1.826855  11.180164  1.924467  2.055214   \n",
       "644 2019-11-23  1.812597  1.754565  1.900231   6.731924  1.813126  1.931232   \n",
       "\n",
       "            6         7         8        actual    prediction  \n",
       "0    2.535545  2.251336  2.363652  11112.700195  10971.301945  \n",
       "1    2.752604  2.541432  2.257215  10551.799805  10884.493640  \n",
       "2    2.774415  2.758852  2.547843  11225.299805  11104.722396  \n",
       "3    3.058369  2.780699  2.765661  11403.700195  11837.337103  \n",
       "4    2.877133  3.065125  2.787548  10690.400391  10883.179012  \n",
       "..        ...       ...       ...           ...           ...  \n",
       "640  2.230566  2.216926  2.292812   8206.145918   8840.954732  \n",
       "641  2.239360  2.235947  2.222742   8027.268243   8688.107136  \n",
       "642  2.152542  2.244755  2.241797   7642.749945   8461.453500  \n",
       "643  2.119215  2.157793  2.250622   7296.577568   8220.887187  \n",
       "644  2.061417  2.124411  2.163500   7397.796815   7964.147610  \n",
       "\n",
       "[645 rows x 12 columns]"
      ]
     },
     "execution_count": 94,
     "metadata": {},
     "output_type": "execute_result"
    }
   ],
   "source": [
    "X_test_ds"
   ]
  }
 ],
 "metadata": {
  "interpreter": {
   "hash": "79b4d08203c1a9e3c21d275df1cd381e28813bd86e909f4da489796a89237e93"
  },
  "kernelspec": {
   "display_name": "Python 3.9.7 64-bit ('tf-gpu': conda)",
   "language": "python",
   "name": "python3"
  },
  "language_info": {
   "codemirror_mode": {
    "name": "ipython",
    "version": 3
   },
   "file_extension": ".py",
   "mimetype": "text/x-python",
   "name": "python",
   "nbconvert_exporter": "python",
   "pygments_lexer": "ipython3",
   "version": "3.9.7"
  },
  "orig_nbformat": 4
 },
 "nbformat": 4,
 "nbformat_minor": 2
}
